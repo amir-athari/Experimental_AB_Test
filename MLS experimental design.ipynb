{
 "cells": [
  {
   "cell_type": "markdown",
   "metadata": {},
   "source": [
    "# Proposale for Research Methodology"
   ]
  },
  {
   "cell_type": "markdown",
   "metadata": {},
   "source": [
    "## 1. Introduction"
   ]
  },
  {
   "cell_type": "markdown",
   "metadata": {},
   "source": [
    "### Majoity real estate transactions in Houston, Texas, are performed by licenced real estate agents. The platform for listing properties for sale or rent is usually called for Multiple Listing Service (MLS) and the one for Houston is delivered by Har.com. Prior to any sale of real estate brokers use different methods to determine the market price the property. One such method is called “comps” which is short for comparable sales. Comps are typically determined by comparing the property in question to other properties within a 1-mile radius, which have sold within the last year and have similar attributes (such as the same number of bedrooms, age, subdivision, square footage, pool, etc).\n",
    "\n",
    "### In this analysis we like to test the hypothesis that having access to a private pool adds value to comps of a property compared those without such feature."
   ]
  },
  {
   "cell_type": "markdown",
   "metadata": {},
   "source": [
    "## 2. The dependent variable"
   ]
  },
  {
   "cell_type": "markdown",
   "metadata": {},
   "source": [
    "### Pice per squar feet is the dependent variable that we like to test the feature of having access to private pool"
   ]
  },
  {
   "cell_type": "markdown",
   "metadata": {},
   "source": [
    "## 3. Proposal"
   ]
  },
  {
   "cell_type": "markdown",
   "metadata": {},
   "source": [
    "### We will test the hypothesis that the mean dolar per sqf value is the same for randomly selected properties, irrespective they have access to a private pool or not. The result of this hypotheis has a practicle implication for real estate transactions. A typical private pool will cost several thousandts of dollars to build and will cost more in monthly maintenance costs for many years. Therefore, one should consider if it is better decision to buy a house without a pool and build one later or buy with an existing pool. The result of this hypothesis can potentially impact buyer's decision as to pay extra for a property if the only difference with its next best alternative is access to such private pool. Ultimately, we like to know if having access to private pool adds value to a property market price.  \n"
   ]
  },
  {
   "cell_type": "markdown",
   "metadata": {},
   "source": [
    "### Data"
   ]
  },
  {
   "cell_type": "markdown",
   "metadata": {},
   "source": [
    "### We will download actual public data, from January 01, 2020, for properties that have been sold from hcad.org. One can argue that COVID-19 may have an adverse effects on the conclusion and this is something we can test in a follow-up analysis with for example dataset from 2019 only. "
   ]
  },
  {
   "cell_type": "markdown",
   "metadata": {},
   "source": [
    "### Methodolgy"
   ]
  },
  {
   "cell_type": "markdown",
   "metadata": {},
   "source": [
    "### The price per squar feet is the dependent variable and for its success metric we choose degree of significance t-test with p-vale of .05. As part of data preparation we do several tasks such as remove dollar signs, drop rental properties, count missing or bad values etc."
   ]
  },
  {
   "cell_type": "markdown",
   "metadata": {},
   "source": [
    "#### Data exploration"
   ]
  },
  {
   "cell_type": "code",
   "execution_count": 114,
   "metadata": {
    "colab": {},
    "colab_type": "code",
    "id": "FZ0mfn9y_kSZ"
   },
   "outputs": [],
   "source": [
    "%matplotlib inline\n",
    "import pandas as pd\n",
    "import numpy as np\n",
    "from numpy import mean\n",
    "from numpy import var\n",
    "from math import sqrt\n",
    "\n",
    "import seaborn as sns\n",
    "from matplotlib import pyplot as plt\n",
    "from scipy import stats\n",
    "import random\n",
    "from bokeh.io import curdoc, output_notebook\n",
    "from bokeh.plotting import figure, show\n",
    "from bokeh.models import HoverTool, ColumnDataSource, CategoricalColorMapper, Slider\n",
    "from bokeh.palettes import Spectral6\n",
    "from bokeh.layouts import widgetbox, row"
   ]
  },
  {
   "cell_type": "code",
   "execution_count": 115,
   "metadata": {},
   "outputs": [],
   "source": [
    "pd.set_option('display.max_rows', 500)\n",
    "pd.set_option('display.max_columns', 500)\n",
    "pd.set_option('display.width', 1000)"
   ]
  },
  {
   "cell_type": "code",
   "execution_count": 116,
   "metadata": {
    "colab": {},
    "colab_type": "code",
    "id": "xgKL6v8z_kSd"
   },
   "outputs": [
    {
     "name": "stderr",
     "output_type": "stream",
     "text": [
      "C:\\Users\\User\\anaconda3\\envs\\prv\\lib\\site-packages\\IPython\\core\\interactiveshell.py:3063: DtypeWarning: Columns (7,52) have mixed types.Specify dtype option on import or set low_memory=False.\n",
      "  interactivity=interactivity, compiler=compiler, result=result)\n"
     ]
    }
   ],
   "source": [
    "# Read from pickled file\n",
    "df0 = pd.read_csv(r'C:\\Users\\user\\OneDrive - Seedergy\\MAEN\\Code\\Projects\\Courses\\Thinkful2020\\har mls data - 12June2020 to 22June2020.csv')"
   ]
  },
  {
   "cell_type": "code",
   "execution_count": 117,
   "metadata": {},
   "outputs": [],
   "source": [
    "df = df0.copy()"
   ]
  },
  {
   "cell_type": "code",
   "execution_count": 118,
   "metadata": {},
   "outputs": [
    {
     "data": {
      "text/html": [
       "<div>\n",
       "<style scoped>\n",
       "    .dataframe tbody tr th:only-of-type {\n",
       "        vertical-align: middle;\n",
       "    }\n",
       "\n",
       "    .dataframe tbody tr th {\n",
       "        vertical-align: top;\n",
       "    }\n",
       "\n",
       "    .dataframe thead th {\n",
       "        text-align: right;\n",
       "    }\n",
       "</style>\n",
       "<table border=\"1\" class=\"dataframe\">\n",
       "  <thead>\n",
       "    <tr style=\"text-align: right;\">\n",
       "      <th></th>\n",
       "      <th>MLS Number</th>\n",
       "      <th>Property Type</th>\n",
       "      <th>Status</th>\n",
       "      <th>Street Number</th>\n",
       "      <th>Street Name</th>\n",
       "      <th>Unit Number</th>\n",
       "      <th>City/Location</th>\n",
       "      <th>Zip Code</th>\n",
       "      <th>County</th>\n",
       "      <th>List Price</th>\n",
       "      <th>Close Price</th>\n",
       "      <th>Close Date</th>\n",
       "      <th>Area</th>\n",
       "      <th>Subdivision</th>\n",
       "      <th>Master Planned Community</th>\n",
       "      <th>Market Area</th>\n",
       "      <th>School District</th>\n",
       "      <th>School Elementary</th>\n",
       "      <th>School Middle</th>\n",
       "      <th>School High</th>\n",
       "      <th>Building SqFt</th>\n",
       "      <th>Price Sq Ft List</th>\n",
       "      <th>Price Sq Ft Sold</th>\n",
       "      <th>Lot Size</th>\n",
       "      <th>Acres</th>\n",
       "      <th>Price Acre List</th>\n",
       "      <th>Price Acre Sales</th>\n",
       "      <th>Year Built</th>\n",
       "      <th>Bedrooms</th>\n",
       "      <th>Baths Full</th>\n",
       "      <th>Baths Half</th>\n",
       "      <th>Baths Total</th>\n",
       "      <th>Room Count</th>\n",
       "      <th>Fireplaces Number</th>\n",
       "      <th>Stories</th>\n",
       "      <th>New Construction</th>\n",
       "      <th>New Construction Desc</th>\n",
       "      <th>Pool Private</th>\n",
       "      <th>No Of Garage Cap</th>\n",
       "      <th>Style</th>\n",
       "      <th>DOM</th>\n",
       "      <th>CDOM</th>\n",
       "      <th>List Office MLSID</th>\n",
       "      <th>List Office Name</th>\n",
       "      <th>List Agent MLSID</th>\n",
       "      <th>List Agent Full Name</th>\n",
       "      <th>Selling Office MLSID</th>\n",
       "      <th>Selling Office Name</th>\n",
       "      <th>Selling Agent MLSID</th>\n",
       "      <th>Selling Agent Full Name</th>\n",
       "      <th>Realist Owner Name</th>\n",
       "      <th>Last Change Timestamp</th>\n",
       "      <th>List Date</th>\n",
       "    </tr>\n",
       "  </thead>\n",
       "  <tbody>\n",
       "    <tr>\n",
       "      <th>0</th>\n",
       "      <td>71016023</td>\n",
       "      <td>Lots</td>\n",
       "      <td>Active</td>\n",
       "      <td>110</td>\n",
       "      <td>Evergreen</td>\n",
       "      <td>NaN</td>\n",
       "      <td>Burkeville</td>\n",
       "      <td>75932</td>\n",
       "      <td>Newton</td>\n",
       "      <td>$110</td>\n",
       "      <td>NaN</td>\n",
       "      <td>NaN</td>\n",
       "      <td>47.0</td>\n",
       "      <td>Toledo Villiage 5a</td>\n",
       "      <td>NaN</td>\n",
       "      <td>NaN</td>\n",
       "      <td>99 - Other</td>\n",
       "      <td>BURKEVILLE ELEMENTARY SCHOOL</td>\n",
       "      <td>BURKEVILLE MIDDLE SCHOOL</td>\n",
       "      <td>BURKEVILLE HIGH SCHOOL</td>\n",
       "      <td>NaN</td>\n",
       "      <td>$0.01</td>\n",
       "      <td>NaN</td>\n",
       "      <td>8960.0</td>\n",
       "      <td>0.2057</td>\n",
       "      <td>$535</td>\n",
       "      <td>NaN</td>\n",
       "      <td>NaN</td>\n",
       "      <td>NaN</td>\n",
       "      <td>NaN</td>\n",
       "      <td>NaN</td>\n",
       "      <td>0.0</td>\n",
       "      <td>NaN</td>\n",
       "      <td>NaN</td>\n",
       "      <td>NaN</td>\n",
       "      <td>NaN</td>\n",
       "      <td>NaN</td>\n",
       "      <td>NaN</td>\n",
       "      <td>NaN</td>\n",
       "      <td>NaN</td>\n",
       "      <td>1</td>\n",
       "      <td>1</td>\n",
       "      <td>KWBE01</td>\n",
       "      <td>Keller Williams Southeast Texa</td>\n",
       "      <td>WJBANGOY</td>\n",
       "      <td>Wendi Bangoy</td>\n",
       "      <td>NaN</td>\n",
       "      <td>NaN</td>\n",
       "      <td>NaN</td>\n",
       "      <td>NaN</td>\n",
       "      <td>NaN</td>\n",
       "      <td>6/22/2020 12:12</td>\n",
       "      <td>6/21/2020 0:00</td>\n",
       "    </tr>\n",
       "    <tr>\n",
       "      <th>1</th>\n",
       "      <td>3351600</td>\n",
       "      <td>Rental</td>\n",
       "      <td>Active</td>\n",
       "      <td>3613</td>\n",
       "      <td>Crane</td>\n",
       "      <td>2</td>\n",
       "      <td>Houston</td>\n",
       "      <td>77026</td>\n",
       "      <td>Harris</td>\n",
       "      <td>$625</td>\n",
       "      <td>NaN</td>\n",
       "      <td>NaN</td>\n",
       "      <td>2.0</td>\n",
       "      <td>Crane Street Woods Sec 02</td>\n",
       "      <td>NaN</td>\n",
       "      <td>Northside</td>\n",
       "      <td>27 - Houston</td>\n",
       "      <td>DOGAN ELEMENTARY SCHOOL</td>\n",
       "      <td>FLEMING MIDDLE SCHOOL</td>\n",
       "      <td>WHEATLEY HIGH SCHOOL</td>\n",
       "      <td>750.0</td>\n",
       "      <td>$0.83</td>\n",
       "      <td>NaN</td>\n",
       "      <td>7448.0</td>\n",
       "      <td>0.1710</td>\n",
       "      <td>$3,655</td>\n",
       "      <td>NaN</td>\n",
       "      <td>1964.0</td>\n",
       "      <td>1.0</td>\n",
       "      <td>1.0</td>\n",
       "      <td>0.0</td>\n",
       "      <td>1.0</td>\n",
       "      <td>1.0</td>\n",
       "      <td>NaN</td>\n",
       "      <td>2.0</td>\n",
       "      <td>False</td>\n",
       "      <td>NaN</td>\n",
       "      <td>False</td>\n",
       "      <td>0.0</td>\n",
       "      <td>NaN</td>\n",
       "      <td>0</td>\n",
       "      <td>0</td>\n",
       "      <td>TXHF01</td>\n",
       "      <td>360 Realty &amp; Management</td>\n",
       "      <td>zwingle</td>\n",
       "      <td>Wayne Comer</td>\n",
       "      <td>NaN</td>\n",
       "      <td>NaN</td>\n",
       "      <td>NaN</td>\n",
       "      <td>NaN</td>\n",
       "      <td>NaN</td>\n",
       "      <td>6/22/2020 13:54</td>\n",
       "      <td>6/22/2020 0:00</td>\n",
       "    </tr>\n",
       "    <tr>\n",
       "      <th>2</th>\n",
       "      <td>82066227</td>\n",
       "      <td>Rental</td>\n",
       "      <td>Active</td>\n",
       "      <td>6161</td>\n",
       "      <td>Reims Rd</td>\n",
       "      <td>NaN</td>\n",
       "      <td>Houston</td>\n",
       "      <td>77036</td>\n",
       "      <td>Harris</td>\n",
       "      <td>$700</td>\n",
       "      <td>NaN</td>\n",
       "      <td>NaN</td>\n",
       "      <td>21.0</td>\n",
       "      <td>Summerset Landing</td>\n",
       "      <td>NaN</td>\n",
       "      <td>Sharpstown Area</td>\n",
       "      <td>27 - Houston</td>\n",
       "      <td>PINEY POINT ELEMENTARY SCHOOL</td>\n",
       "      <td>REVERE MIDDLE SCHOOL</td>\n",
       "      <td>WISDOM HIGH SCHOOL</td>\n",
       "      <td>712.0</td>\n",
       "      <td>$0.98</td>\n",
       "      <td>NaN</td>\n",
       "      <td>NaN</td>\n",
       "      <td>NaN</td>\n",
       "      <td>NaN</td>\n",
       "      <td>NaN</td>\n",
       "      <td>1977.0</td>\n",
       "      <td>1.0</td>\n",
       "      <td>1.0</td>\n",
       "      <td>0.0</td>\n",
       "      <td>1.0</td>\n",
       "      <td>2.0</td>\n",
       "      <td>NaN</td>\n",
       "      <td>NaN</td>\n",
       "      <td>False</td>\n",
       "      <td>NaN</td>\n",
       "      <td>False</td>\n",
       "      <td>0.0</td>\n",
       "      <td>Traditional</td>\n",
       "      <td>0</td>\n",
       "      <td>0</td>\n",
       "      <td>RELM03</td>\n",
       "      <td>REALM Real Estate Professional</td>\n",
       "      <td>chinabo</td>\n",
       "      <td>Wayne Au</td>\n",
       "      <td>NaN</td>\n",
       "      <td>NaN</td>\n",
       "      <td>NaN</td>\n",
       "      <td>NaN</td>\n",
       "      <td>NaN</td>\n",
       "      <td>6/22/2020 21:32</td>\n",
       "      <td>6/22/2020 0:00</td>\n",
       "    </tr>\n",
       "  </tbody>\n",
       "</table>\n",
       "</div>"
      ],
      "text/plain": [
       "   MLS Number Property Type  Status Street Number Street Name Unit Number City/Location Zip Code  County List Price Close Price Close Date  Area                Subdivision Master Planned Community      Market Area School District              School Elementary             School Middle             School High  Building SqFt Price Sq Ft List Price Sq Ft Sold  Lot Size   Acres Price Acre List Price Acre Sales  Year Built  Bedrooms  Baths Full  Baths Half  Baths Total  Room Count  Fireplaces Number  Stories New Construction New Construction Desc Pool Private  No Of Garage Cap        Style  DOM  CDOM List Office MLSID                List Office Name List Agent MLSID List Agent Full Name Selling Office MLSID Selling Office Name Selling Agent MLSID Selling Agent Full Name Realist Owner Name Last Change Timestamp      List Date \n",
       "0    71016023          Lots  Active           110   Evergreen         NaN    Burkeville    75932  Newton      $110          NaN        NaN  47.0         Toledo Villiage 5a                      NaN              NaN      99 - Other   BURKEVILLE ELEMENTARY SCHOOL  BURKEVILLE MIDDLE SCHOOL  BURKEVILLE HIGH SCHOOL            NaN           $0.01               NaN    8960.0  0.2057           $535               NaN         NaN       NaN         NaN         NaN          0.0         NaN                NaN      NaN              NaN                   NaN          NaN               NaN          NaN    1     1            KWBE01  Keller Williams Southeast Texa         WJBANGOY         Wendi Bangoy                  NaN                 NaN                 NaN                     NaN                NaN       6/22/2020 12:12  6/21/2020 0:00\n",
       "1     3351600        Rental  Active          3613       Crane           2       Houston    77026  Harris      $625          NaN        NaN   2.0  Crane Street Woods Sec 02                      NaN        Northside    27 - Houston        DOGAN ELEMENTARY SCHOOL     FLEMING MIDDLE SCHOOL    WHEATLEY HIGH SCHOOL          750.0           $0.83               NaN    7448.0  0.1710         $3,655               NaN      1964.0       1.0         1.0         0.0          1.0         1.0                NaN      2.0            False                   NaN        False               0.0          NaN    0     0            TXHF01         360 Realty & Management          zwingle          Wayne Comer                  NaN                 NaN                 NaN                     NaN                NaN       6/22/2020 13:54  6/22/2020 0:00\n",
       "2    82066227        Rental  Active          6161    Reims Rd         NaN       Houston    77036  Harris      $700          NaN        NaN  21.0          Summerset Landing                      NaN  Sharpstown Area    27 - Houston  PINEY POINT ELEMENTARY SCHOOL      REVERE MIDDLE SCHOOL      WISDOM HIGH SCHOOL          712.0           $0.98               NaN       NaN     NaN             NaN              NaN      1977.0       1.0         1.0         0.0          1.0         2.0                NaN      NaN            False                   NaN        False               0.0  Traditional    0     0            RELM03  REALM Real Estate Professional          chinabo             Wayne Au                  NaN                 NaN                 NaN                     NaN                NaN       6/22/2020 21:32  6/22/2020 0:00"
      ]
     },
     "execution_count": 118,
     "metadata": {},
     "output_type": "execute_result"
    }
   ],
   "source": [
    "df.head(3)"
   ]
  },
  {
   "cell_type": "markdown",
   "metadata": {},
   "source": [
    "#### Replace NaN values with zeros for those features where the value zero meand null."
   ]
  },
  {
   "cell_type": "code",
   "execution_count": 119,
   "metadata": {},
   "outputs": [],
   "source": [
    "cols = ['List Price','Area', 'Building SqFt', 'Lot Size', 'Acres','Price Sq Ft List',\n",
    "        'Year Built', 'Bedrooms', 'Baths Full', 'Baths Half', 'Baths Total',\n",
    "        'Room Count', 'Fireplaces Number', 'Stories', 'No Of Garage Cap']\n",
    "df[cols]=df[cols].fillna(0)\n",
    "df = df.replace({'\\$': ''},regex=True) \n",
    "df['Price Sq Ft List'] = pd.to_numeric(df['Price Sq Ft List'], errors='coerce')\n",
    "#df[\"Price Sq Ft List\"] = df[\"List Price\"] / df[\"Building SqFt\"]\n",
    "# df[\"Price Sq Ft List\"] = df[\"Price Sq Ft List\"].str.replace(',', '').astype(float)"
   ]
  },
  {
   "cell_type": "code",
   "execution_count": 120,
   "metadata": {
    "colab": {
     "base_uri": "https://localhost:8080/",
     "height": 190
    },
    "colab_type": "code",
    "id": "8SmZPKQ_FKSi",
    "outputId": "2a1d44f0-ec48-496d-ea05-fc374799b243"
   },
   "outputs": [],
   "source": [
    "# Add a column of ones for future aggregations\n",
    "df['ones'] = 1\n",
    "# Map True/False to 1/0\n",
    "df['New Construction'] = df['New Construction'] * 1\n",
    "df['Pool Private'] = df['Pool Private'] * 1"
   ]
  },
  {
   "cell_type": "code",
   "execution_count": 121,
   "metadata": {},
   "outputs": [
    {
     "data": {
      "text/html": [
       "<div>\n",
       "<style scoped>\n",
       "    .dataframe tbody tr th:only-of-type {\n",
       "        vertical-align: middle;\n",
       "    }\n",
       "\n",
       "    .dataframe tbody tr th {\n",
       "        vertical-align: top;\n",
       "    }\n",
       "\n",
       "    .dataframe thead th {\n",
       "        text-align: right;\n",
       "    }\n",
       "</style>\n",
       "<table border=\"1\" class=\"dataframe\">\n",
       "  <thead>\n",
       "    <tr style=\"text-align: right;\">\n",
       "      <th></th>\n",
       "      <th>MLS Number</th>\n",
       "      <th>Property Type</th>\n",
       "      <th>Status</th>\n",
       "      <th>Street Number</th>\n",
       "      <th>Street Name</th>\n",
       "      <th>Unit Number</th>\n",
       "      <th>City/Location</th>\n",
       "      <th>Zip Code</th>\n",
       "      <th>County</th>\n",
       "      <th>List Price</th>\n",
       "      <th>Close Price</th>\n",
       "      <th>Close Date</th>\n",
       "      <th>Area</th>\n",
       "      <th>Subdivision</th>\n",
       "      <th>Master Planned Community</th>\n",
       "      <th>Market Area</th>\n",
       "      <th>School District</th>\n",
       "      <th>School Elementary</th>\n",
       "      <th>School Middle</th>\n",
       "      <th>School High</th>\n",
       "      <th>Building SqFt</th>\n",
       "      <th>Price Sq Ft List</th>\n",
       "      <th>Price Sq Ft Sold</th>\n",
       "      <th>Lot Size</th>\n",
       "      <th>Acres</th>\n",
       "      <th>Price Acre List</th>\n",
       "      <th>Price Acre Sales</th>\n",
       "      <th>Year Built</th>\n",
       "      <th>Bedrooms</th>\n",
       "      <th>Baths Full</th>\n",
       "      <th>Baths Half</th>\n",
       "      <th>Baths Total</th>\n",
       "      <th>Room Count</th>\n",
       "      <th>Fireplaces Number</th>\n",
       "      <th>Stories</th>\n",
       "      <th>New Construction</th>\n",
       "      <th>New Construction Desc</th>\n",
       "      <th>Pool Private</th>\n",
       "      <th>No Of Garage Cap</th>\n",
       "      <th>Style</th>\n",
       "      <th>DOM</th>\n",
       "      <th>CDOM</th>\n",
       "      <th>List Office MLSID</th>\n",
       "      <th>List Office Name</th>\n",
       "      <th>List Agent MLSID</th>\n",
       "      <th>List Agent Full Name</th>\n",
       "      <th>Selling Office MLSID</th>\n",
       "      <th>Selling Office Name</th>\n",
       "      <th>Selling Agent MLSID</th>\n",
       "      <th>Selling Agent Full Name</th>\n",
       "      <th>Realist Owner Name</th>\n",
       "      <th>Last Change Timestamp</th>\n",
       "      <th>List Date</th>\n",
       "      <th>ones</th>\n",
       "    </tr>\n",
       "  </thead>\n",
       "  <tbody>\n",
       "    <tr>\n",
       "      <th>0</th>\n",
       "      <td>71016023</td>\n",
       "      <td>Lots</td>\n",
       "      <td>Active</td>\n",
       "      <td>110</td>\n",
       "      <td>Evergreen</td>\n",
       "      <td>NaN</td>\n",
       "      <td>Burkeville</td>\n",
       "      <td>75932</td>\n",
       "      <td>Newton</td>\n",
       "      <td>110</td>\n",
       "      <td>NaN</td>\n",
       "      <td>NaN</td>\n",
       "      <td>47.0</td>\n",
       "      <td>Toledo Villiage 5a</td>\n",
       "      <td>NaN</td>\n",
       "      <td>NaN</td>\n",
       "      <td>99 - Other</td>\n",
       "      <td>BURKEVILLE ELEMENTARY SCHOOL</td>\n",
       "      <td>BURKEVILLE MIDDLE SCHOOL</td>\n",
       "      <td>BURKEVILLE HIGH SCHOOL</td>\n",
       "      <td>0.0</td>\n",
       "      <td>0.01</td>\n",
       "      <td>NaN</td>\n",
       "      <td>8960.0</td>\n",
       "      <td>0.2057</td>\n",
       "      <td>535</td>\n",
       "      <td>NaN</td>\n",
       "      <td>0.0</td>\n",
       "      <td>0.0</td>\n",
       "      <td>0.0</td>\n",
       "      <td>0.0</td>\n",
       "      <td>0.0</td>\n",
       "      <td>0.0</td>\n",
       "      <td>0.0</td>\n",
       "      <td>0.0</td>\n",
       "      <td>NaN</td>\n",
       "      <td>NaN</td>\n",
       "      <td>NaN</td>\n",
       "      <td>0.0</td>\n",
       "      <td>NaN</td>\n",
       "      <td>1</td>\n",
       "      <td>1</td>\n",
       "      <td>KWBE01</td>\n",
       "      <td>Keller Williams Southeast Texa</td>\n",
       "      <td>WJBANGOY</td>\n",
       "      <td>Wendi Bangoy</td>\n",
       "      <td>NaN</td>\n",
       "      <td>NaN</td>\n",
       "      <td>NaN</td>\n",
       "      <td>NaN</td>\n",
       "      <td>NaN</td>\n",
       "      <td>6/22/2020 12:12</td>\n",
       "      <td>6/21/2020 0:00</td>\n",
       "      <td>1</td>\n",
       "    </tr>\n",
       "    <tr>\n",
       "      <th>1</th>\n",
       "      <td>3351600</td>\n",
       "      <td>Rental</td>\n",
       "      <td>Active</td>\n",
       "      <td>3613</td>\n",
       "      <td>Crane</td>\n",
       "      <td>2</td>\n",
       "      <td>Houston</td>\n",
       "      <td>77026</td>\n",
       "      <td>Harris</td>\n",
       "      <td>625</td>\n",
       "      <td>NaN</td>\n",
       "      <td>NaN</td>\n",
       "      <td>2.0</td>\n",
       "      <td>Crane Street Woods Sec 02</td>\n",
       "      <td>NaN</td>\n",
       "      <td>Northside</td>\n",
       "      <td>27 - Houston</td>\n",
       "      <td>DOGAN ELEMENTARY SCHOOL</td>\n",
       "      <td>FLEMING MIDDLE SCHOOL</td>\n",
       "      <td>WHEATLEY HIGH SCHOOL</td>\n",
       "      <td>750.0</td>\n",
       "      <td>0.83</td>\n",
       "      <td>NaN</td>\n",
       "      <td>7448.0</td>\n",
       "      <td>0.1710</td>\n",
       "      <td>3,655</td>\n",
       "      <td>NaN</td>\n",
       "      <td>1964.0</td>\n",
       "      <td>1.0</td>\n",
       "      <td>1.0</td>\n",
       "      <td>0.0</td>\n",
       "      <td>1.0</td>\n",
       "      <td>1.0</td>\n",
       "      <td>0.0</td>\n",
       "      <td>2.0</td>\n",
       "      <td>0</td>\n",
       "      <td>NaN</td>\n",
       "      <td>0</td>\n",
       "      <td>0.0</td>\n",
       "      <td>NaN</td>\n",
       "      <td>0</td>\n",
       "      <td>0</td>\n",
       "      <td>TXHF01</td>\n",
       "      <td>360 Realty &amp; Management</td>\n",
       "      <td>zwingle</td>\n",
       "      <td>Wayne Comer</td>\n",
       "      <td>NaN</td>\n",
       "      <td>NaN</td>\n",
       "      <td>NaN</td>\n",
       "      <td>NaN</td>\n",
       "      <td>NaN</td>\n",
       "      <td>6/22/2020 13:54</td>\n",
       "      <td>6/22/2020 0:00</td>\n",
       "      <td>1</td>\n",
       "    </tr>\n",
       "  </tbody>\n",
       "</table>\n",
       "</div>"
      ],
      "text/plain": [
       "   MLS Number Property Type  Status Street Number Street Name Unit Number City/Location Zip Code  County List Price Close Price Close Date  Area                Subdivision Master Planned Community Market Area School District             School Elementary             School Middle             School High  Building SqFt  Price Sq Ft List Price Sq Ft Sold  Lot Size   Acres Price Acre List Price Acre Sales  Year Built  Bedrooms  Baths Full  Baths Half  Baths Total  Room Count  Fireplaces Number  Stories New Construction New Construction Desc Pool Private  No Of Garage Cap Style  DOM  CDOM List Office MLSID                List Office Name List Agent MLSID List Agent Full Name Selling Office MLSID Selling Office Name Selling Agent MLSID Selling Agent Full Name Realist Owner Name Last Change Timestamp      List Date   ones\n",
       "0    71016023          Lots  Active           110   Evergreen         NaN    Burkeville    75932  Newton       110          NaN        NaN  47.0         Toledo Villiage 5a                      NaN         NaN      99 - Other  BURKEVILLE ELEMENTARY SCHOOL  BURKEVILLE MIDDLE SCHOOL  BURKEVILLE HIGH SCHOOL            0.0              0.01              NaN    8960.0  0.2057            535               NaN         0.0       0.0         0.0         0.0          0.0         0.0                0.0      0.0              NaN                   NaN          NaN               0.0   NaN    1     1            KWBE01  Keller Williams Southeast Texa         WJBANGOY         Wendi Bangoy                  NaN                 NaN                 NaN                     NaN                NaN       6/22/2020 12:12  6/21/2020 0:00     1\n",
       "1     3351600        Rental  Active          3613       Crane           2       Houston    77026  Harris       625          NaN        NaN   2.0  Crane Street Woods Sec 02                      NaN   Northside    27 - Houston       DOGAN ELEMENTARY SCHOOL     FLEMING MIDDLE SCHOOL    WHEATLEY HIGH SCHOOL          750.0              0.83              NaN    7448.0  0.1710          3,655               NaN      1964.0       1.0         1.0         0.0          1.0         1.0                0.0      2.0                0                   NaN            0               0.0   NaN    0     0            TXHF01         360 Realty & Management          zwingle          Wayne Comer                  NaN                 NaN                 NaN                     NaN                NaN       6/22/2020 13:54  6/22/2020 0:00     1"
      ]
     },
     "execution_count": 121,
     "metadata": {},
     "output_type": "execute_result"
    }
   ],
   "source": [
    "df.head(2)"
   ]
  },
  {
   "cell_type": "code",
   "execution_count": 122,
   "metadata": {},
   "outputs": [],
   "source": [
    "cols = ('Price Acre List','Price Acre Sales')\n",
    "\n",
    "def replace_val(row):\n",
    "        for col in cols:\n",
    "            if row[col] == ',':\n",
    "                row[col] = ''.astype(float)\n",
    "            if row[col] == \"FALSE\":\n",
    "                row[col] = 1\n",
    "            else: 0\n",
    "            \n",
    "        return row\n",
    "    \n",
    "df = df.apply(replace_val, axis=1)"
   ]
  },
  {
   "cell_type": "code",
   "execution_count": 123,
   "metadata": {
    "colab": {
     "base_uri": "https://localhost:8080/",
     "height": 349
    },
    "colab_type": "code",
    "id": "REPXGM9U_kSg",
    "outputId": "8c0efb2b-4ac3-464c-e434-b60128938ed5"
   },
   "outputs": [
    {
     "data": {
      "text/html": [
       "<div>\n",
       "<style scoped>\n",
       "    .dataframe tbody tr th:only-of-type {\n",
       "        vertical-align: middle;\n",
       "    }\n",
       "\n",
       "    .dataframe tbody tr th {\n",
       "        vertical-align: top;\n",
       "    }\n",
       "\n",
       "    .dataframe thead th {\n",
       "        text-align: right;\n",
       "    }\n",
       "</style>\n",
       "<table border=\"1\" class=\"dataframe\">\n",
       "  <thead>\n",
       "    <tr style=\"text-align: right;\">\n",
       "      <th></th>\n",
       "      <th>MLS Number</th>\n",
       "      <th>Property Type</th>\n",
       "      <th>Status</th>\n",
       "      <th>Street Number</th>\n",
       "      <th>Street Name</th>\n",
       "      <th>Unit Number</th>\n",
       "      <th>City/Location</th>\n",
       "      <th>Zip Code</th>\n",
       "      <th>County</th>\n",
       "      <th>List Price</th>\n",
       "      <th>Close Price</th>\n",
       "      <th>Close Date</th>\n",
       "      <th>Area</th>\n",
       "      <th>Subdivision</th>\n",
       "      <th>Master Planned Community</th>\n",
       "      <th>Market Area</th>\n",
       "      <th>School District</th>\n",
       "      <th>School Elementary</th>\n",
       "      <th>School Middle</th>\n",
       "      <th>School High</th>\n",
       "      <th>Building SqFt</th>\n",
       "      <th>Price Sq Ft List</th>\n",
       "      <th>Price Sq Ft Sold</th>\n",
       "      <th>Lot Size</th>\n",
       "      <th>Acres</th>\n",
       "      <th>Price Acre List</th>\n",
       "      <th>Price Acre Sales</th>\n",
       "      <th>Year Built</th>\n",
       "      <th>Bedrooms</th>\n",
       "      <th>Baths Full</th>\n",
       "      <th>Baths Half</th>\n",
       "      <th>Baths Total</th>\n",
       "      <th>Room Count</th>\n",
       "      <th>Fireplaces Number</th>\n",
       "      <th>Stories</th>\n",
       "      <th>New Construction</th>\n",
       "      <th>New Construction Desc</th>\n",
       "      <th>Pool Private</th>\n",
       "      <th>No Of Garage Cap</th>\n",
       "      <th>Style</th>\n",
       "      <th>DOM</th>\n",
       "      <th>CDOM</th>\n",
       "      <th>List Office MLSID</th>\n",
       "      <th>List Office Name</th>\n",
       "      <th>List Agent MLSID</th>\n",
       "      <th>List Agent Full Name</th>\n",
       "      <th>Selling Office MLSID</th>\n",
       "      <th>Selling Office Name</th>\n",
       "      <th>Selling Agent MLSID</th>\n",
       "      <th>Selling Agent Full Name</th>\n",
       "      <th>Realist Owner Name</th>\n",
       "      <th>Last Change Timestamp</th>\n",
       "      <th>List Date</th>\n",
       "      <th>ones</th>\n",
       "    </tr>\n",
       "  </thead>\n",
       "  <tbody>\n",
       "    <tr>\n",
       "      <th>0</th>\n",
       "      <td>71016023</td>\n",
       "      <td>Lots</td>\n",
       "      <td>Active</td>\n",
       "      <td>110</td>\n",
       "      <td>Evergreen</td>\n",
       "      <td>NaN</td>\n",
       "      <td>Burkeville</td>\n",
       "      <td>75932</td>\n",
       "      <td>Newton</td>\n",
       "      <td>110</td>\n",
       "      <td>NaN</td>\n",
       "      <td>NaN</td>\n",
       "      <td>47.0</td>\n",
       "      <td>Toledo Villiage 5a</td>\n",
       "      <td>NaN</td>\n",
       "      <td>NaN</td>\n",
       "      <td>99 - Other</td>\n",
       "      <td>BURKEVILLE ELEMENTARY SCHOOL</td>\n",
       "      <td>BURKEVILLE MIDDLE SCHOOL</td>\n",
       "      <td>BURKEVILLE HIGH SCHOOL</td>\n",
       "      <td>0.0</td>\n",
       "      <td>0.01</td>\n",
       "      <td>NaN</td>\n",
       "      <td>8960.0</td>\n",
       "      <td>0.2057</td>\n",
       "      <td>535</td>\n",
       "      <td>NaN</td>\n",
       "      <td>0.0</td>\n",
       "      <td>0.0</td>\n",
       "      <td>0.0</td>\n",
       "      <td>0.0</td>\n",
       "      <td>0.0</td>\n",
       "      <td>0.0</td>\n",
       "      <td>0.0</td>\n",
       "      <td>0.0</td>\n",
       "      <td>NaN</td>\n",
       "      <td>NaN</td>\n",
       "      <td>NaN</td>\n",
       "      <td>0.0</td>\n",
       "      <td>NaN</td>\n",
       "      <td>1</td>\n",
       "      <td>1</td>\n",
       "      <td>KWBE01</td>\n",
       "      <td>Keller Williams Southeast Texa</td>\n",
       "      <td>WJBANGOY</td>\n",
       "      <td>Wendi Bangoy</td>\n",
       "      <td>NaN</td>\n",
       "      <td>NaN</td>\n",
       "      <td>NaN</td>\n",
       "      <td>NaN</td>\n",
       "      <td>NaN</td>\n",
       "      <td>6/22/2020 12:12</td>\n",
       "      <td>6/21/2020 0:00</td>\n",
       "      <td>1</td>\n",
       "    </tr>\n",
       "    <tr>\n",
       "      <th>1</th>\n",
       "      <td>3351600</td>\n",
       "      <td>Rental</td>\n",
       "      <td>Active</td>\n",
       "      <td>3613</td>\n",
       "      <td>Crane</td>\n",
       "      <td>2</td>\n",
       "      <td>Houston</td>\n",
       "      <td>77026</td>\n",
       "      <td>Harris</td>\n",
       "      <td>625</td>\n",
       "      <td>NaN</td>\n",
       "      <td>NaN</td>\n",
       "      <td>2.0</td>\n",
       "      <td>Crane Street Woods Sec 02</td>\n",
       "      <td>NaN</td>\n",
       "      <td>Northside</td>\n",
       "      <td>27 - Houston</td>\n",
       "      <td>DOGAN ELEMENTARY SCHOOL</td>\n",
       "      <td>FLEMING MIDDLE SCHOOL</td>\n",
       "      <td>WHEATLEY HIGH SCHOOL</td>\n",
       "      <td>750.0</td>\n",
       "      <td>0.83</td>\n",
       "      <td>NaN</td>\n",
       "      <td>7448.0</td>\n",
       "      <td>0.1710</td>\n",
       "      <td>3,655</td>\n",
       "      <td>NaN</td>\n",
       "      <td>1964.0</td>\n",
       "      <td>1.0</td>\n",
       "      <td>1.0</td>\n",
       "      <td>0.0</td>\n",
       "      <td>1.0</td>\n",
       "      <td>1.0</td>\n",
       "      <td>0.0</td>\n",
       "      <td>2.0</td>\n",
       "      <td>0.0</td>\n",
       "      <td>NaN</td>\n",
       "      <td>0.0</td>\n",
       "      <td>0.0</td>\n",
       "      <td>NaN</td>\n",
       "      <td>0</td>\n",
       "      <td>0</td>\n",
       "      <td>TXHF01</td>\n",
       "      <td>360 Realty &amp; Management</td>\n",
       "      <td>zwingle</td>\n",
       "      <td>Wayne Comer</td>\n",
       "      <td>NaN</td>\n",
       "      <td>NaN</td>\n",
       "      <td>NaN</td>\n",
       "      <td>NaN</td>\n",
       "      <td>NaN</td>\n",
       "      <td>6/22/2020 13:54</td>\n",
       "      <td>6/22/2020 0:00</td>\n",
       "      <td>1</td>\n",
       "    </tr>\n",
       "  </tbody>\n",
       "</table>\n",
       "</div>"
      ],
      "text/plain": [
       "   MLS Number Property Type  Status Street Number Street Name Unit Number City/Location Zip Code  County List Price Close Price Close Date  Area                Subdivision Master Planned Community Market Area School District             School Elementary             School Middle             School High  Building SqFt  Price Sq Ft List Price Sq Ft Sold  Lot Size   Acres Price Acre List Price Acre Sales  Year Built  Bedrooms  Baths Full  Baths Half  Baths Total  Room Count  Fireplaces Number  Stories  New Construction New Construction Desc  Pool Private  No Of Garage Cap Style  DOM  CDOM List Office MLSID                List Office Name List Agent MLSID List Agent Full Name Selling Office MLSID Selling Office Name Selling Agent MLSID Selling Agent Full Name Realist Owner Name Last Change Timestamp      List Date   ones\n",
       "0    71016023          Lots  Active           110   Evergreen         NaN    Burkeville    75932  Newton       110          NaN        NaN  47.0         Toledo Villiage 5a                      NaN         NaN      99 - Other  BURKEVILLE ELEMENTARY SCHOOL  BURKEVILLE MIDDLE SCHOOL  BURKEVILLE HIGH SCHOOL            0.0              0.01              NaN    8960.0  0.2057            535               NaN         0.0       0.0         0.0         0.0          0.0         0.0                0.0      0.0               NaN                   NaN           NaN               0.0   NaN    1     1            KWBE01  Keller Williams Southeast Texa         WJBANGOY         Wendi Bangoy                  NaN                 NaN                 NaN                     NaN                NaN       6/22/2020 12:12  6/21/2020 0:00     1\n",
       "1     3351600        Rental  Active          3613       Crane           2       Houston    77026  Harris       625          NaN        NaN   2.0  Crane Street Woods Sec 02                      NaN   Northside    27 - Houston       DOGAN ELEMENTARY SCHOOL     FLEMING MIDDLE SCHOOL    WHEATLEY HIGH SCHOOL          750.0              0.83              NaN    7448.0  0.1710          3,655               NaN      1964.0       1.0         1.0         0.0          1.0         1.0                0.0      2.0               0.0                   NaN           0.0               0.0   NaN    0     0            TXHF01         360 Realty & Management          zwingle          Wayne Comer                  NaN                 NaN                 NaN                     NaN                NaN       6/22/2020 13:54  6/22/2020 0:00     1"
      ]
     },
     "execution_count": 123,
     "metadata": {},
     "output_type": "execute_result"
    }
   ],
   "source": [
    "df.head(2)"
   ]
  },
  {
   "cell_type": "markdown",
   "metadata": {},
   "source": [
    "### Get some descriptive statistics for the data"
   ]
  },
  {
   "cell_type": "code",
   "execution_count": 124,
   "metadata": {},
   "outputs": [
    {
     "data": {
      "text/html": [
       "<div>\n",
       "<style scoped>\n",
       "    .dataframe tbody tr th:only-of-type {\n",
       "        vertical-align: middle;\n",
       "    }\n",
       "\n",
       "    .dataframe tbody tr th {\n",
       "        vertical-align: top;\n",
       "    }\n",
       "\n",
       "    .dataframe thead th {\n",
       "        text-align: right;\n",
       "    }\n",
       "</style>\n",
       "<table border=\"1\" class=\"dataframe\">\n",
       "  <thead>\n",
       "    <tr style=\"text-align: right;\">\n",
       "      <th></th>\n",
       "      <th>MLS Number</th>\n",
       "      <th>Area</th>\n",
       "      <th>Building SqFt</th>\n",
       "      <th>Price Sq Ft List</th>\n",
       "      <th>Lot Size</th>\n",
       "      <th>Acres</th>\n",
       "      <th>Year Built</th>\n",
       "      <th>Bedrooms</th>\n",
       "      <th>Baths Full</th>\n",
       "      <th>Baths Half</th>\n",
       "      <th>Baths Total</th>\n",
       "      <th>Room Count</th>\n",
       "      <th>Fireplaces Number</th>\n",
       "      <th>Stories</th>\n",
       "      <th>New Construction</th>\n",
       "      <th>Pool Private</th>\n",
       "      <th>No Of Garage Cap</th>\n",
       "      <th>DOM</th>\n",
       "      <th>CDOM</th>\n",
       "      <th>ones</th>\n",
       "    </tr>\n",
       "  </thead>\n",
       "  <tbody>\n",
       "    <tr>\n",
       "      <th>count</th>\n",
       "      <td>20307</td>\n",
       "      <td>20307</td>\n",
       "      <td>20307</td>\n",
       "      <td>20295</td>\n",
       "      <td>20307</td>\n",
       "      <td>20307</td>\n",
       "      <td>20307</td>\n",
       "      <td>20307</td>\n",
       "      <td>20307</td>\n",
       "      <td>20307</td>\n",
       "      <td>20307</td>\n",
       "      <td>20307</td>\n",
       "      <td>20307</td>\n",
       "      <td>20307</td>\n",
       "      <td>19071</td>\n",
       "      <td>18991</td>\n",
       "      <td>20307</td>\n",
       "      <td>20307</td>\n",
       "      <td>20307</td>\n",
       "      <td>20307</td>\n",
       "    </tr>\n",
       "    <tr>\n",
       "      <th>mean</th>\n",
       "      <td>5.05858e+07</td>\n",
       "      <td>23.0824</td>\n",
       "      <td>2147.88</td>\n",
       "      <td>97.3475</td>\n",
       "      <td>26541.2</td>\n",
       "      <td>1.64219</td>\n",
       "      <td>1845.15</td>\n",
       "      <td>3.0814</td>\n",
       "      <td>2.10602</td>\n",
       "      <td>0.469739</td>\n",
       "      <td>2.153</td>\n",
       "      <td>6.78736</td>\n",
       "      <td>0.551288</td>\n",
       "      <td>1.41446</td>\n",
       "      <td>0.135232</td>\n",
       "      <td>0.105524</td>\n",
       "      <td>1.66342</td>\n",
       "      <td>43.8292</td>\n",
       "      <td>76.8926</td>\n",
       "      <td>1</td>\n",
       "    </tr>\n",
       "    <tr>\n",
       "      <th>std</th>\n",
       "      <td>2.81651e+07</td>\n",
       "      <td>15.9148</td>\n",
       "      <td>2401.08</td>\n",
       "      <td>94.0759</td>\n",
       "      <td>452789</td>\n",
       "      <td>23.2474</td>\n",
       "      <td>526.213</td>\n",
       "      <td>1.26878</td>\n",
       "      <td>0.984333</td>\n",
       "      <td>0.555771</td>\n",
       "      <td>1.00845</td>\n",
       "      <td>3.71058</td>\n",
       "      <td>0.613521</td>\n",
       "      <td>1.0999</td>\n",
       "      <td>0.34198</td>\n",
       "      <td>0.307235</td>\n",
       "      <td>1.64841</td>\n",
       "      <td>88.1995</td>\n",
       "      <td>158.759</td>\n",
       "      <td>0</td>\n",
       "    </tr>\n",
       "    <tr>\n",
       "      <th>min</th>\n",
       "      <td>202751</td>\n",
       "      <td>0</td>\n",
       "      <td>0</td>\n",
       "      <td>0</td>\n",
       "      <td>0</td>\n",
       "      <td>0</td>\n",
       "      <td>0</td>\n",
       "      <td>0</td>\n",
       "      <td>0</td>\n",
       "      <td>0</td>\n",
       "      <td>0</td>\n",
       "      <td>0</td>\n",
       "      <td>0</td>\n",
       "      <td>0</td>\n",
       "      <td>0</td>\n",
       "      <td>0</td>\n",
       "      <td>0</td>\n",
       "      <td>-21</td>\n",
       "      <td>-5</td>\n",
       "      <td>1</td>\n",
       "    </tr>\n",
       "    <tr>\n",
       "      <th>25%</th>\n",
       "      <td>2.60131e+07</td>\n",
       "      <td>10</td>\n",
       "      <td>1433</td>\n",
       "      <td>1.32</td>\n",
       "      <td>4827.5</td>\n",
       "      <td>0</td>\n",
       "      <td>1976</td>\n",
       "      <td>3</td>\n",
       "      <td>2</td>\n",
       "      <td>0</td>\n",
       "      <td>2</td>\n",
       "      <td>4</td>\n",
       "      <td>0</td>\n",
       "      <td>1</td>\n",
       "      <td>0</td>\n",
       "      <td>0</td>\n",
       "      <td>1</td>\n",
       "      <td>4</td>\n",
       "      <td>5</td>\n",
       "      <td>1</td>\n",
       "    </tr>\n",
       "    <tr>\n",
       "      <th>50%</th>\n",
       "      <td>5.07339e+07</td>\n",
       "      <td>21</td>\n",
       "      <td>2030</td>\n",
       "      <td>103.92</td>\n",
       "      <td>7248</td>\n",
       "      <td>0.1573</td>\n",
       "      <td>2000</td>\n",
       "      <td>3</td>\n",
       "      <td>2</td>\n",
       "      <td>0</td>\n",
       "      <td>2.1</td>\n",
       "      <td>7</td>\n",
       "      <td>1</td>\n",
       "      <td>1</td>\n",
       "      <td>0</td>\n",
       "      <td>0</td>\n",
       "      <td>2</td>\n",
       "      <td>10</td>\n",
       "      <td>16</td>\n",
       "      <td>1</td>\n",
       "    </tr>\n",
       "    <tr>\n",
       "      <th>75%</th>\n",
       "      <td>7.50709e+07</td>\n",
       "      <td>33</td>\n",
       "      <td>2724</td>\n",
       "      <td>136.88</td>\n",
       "      <td>10478.5</td>\n",
       "      <td>0.2365</td>\n",
       "      <td>2013</td>\n",
       "      <td>4</td>\n",
       "      <td>3</td>\n",
       "      <td>1</td>\n",
       "      <td>3</td>\n",
       "      <td>9</td>\n",
       "      <td>1</td>\n",
       "      <td>2</td>\n",
       "      <td>0</td>\n",
       "      <td>0</td>\n",
       "      <td>2</td>\n",
       "      <td>49</td>\n",
       "      <td>86</td>\n",
       "      <td>1</td>\n",
       "    </tr>\n",
       "    <tr>\n",
       "      <th>max</th>\n",
       "      <td>9.93032e+07</td>\n",
       "      <td>87</td>\n",
       "      <td>288174</td>\n",
       "      <td>975.95</td>\n",
       "      <td>6.355e+07</td>\n",
       "      <td>1597</td>\n",
       "      <td>2021</td>\n",
       "      <td>12</td>\n",
       "      <td>13</td>\n",
       "      <td>9</td>\n",
       "      <td>13.1</td>\n",
       "      <td>28</td>\n",
       "      <td>11</td>\n",
       "      <td>31</td>\n",
       "      <td>1</td>\n",
       "      <td>1</td>\n",
       "      <td>64</td>\n",
       "      <td>1869</td>\n",
       "      <td>4468</td>\n",
       "      <td>1</td>\n",
       "    </tr>\n",
       "    <tr>\n",
       "      <th>dtype</th>\n",
       "      <td>int64</td>\n",
       "      <td>float64</td>\n",
       "      <td>float64</td>\n",
       "      <td>float64</td>\n",
       "      <td>float64</td>\n",
       "      <td>float64</td>\n",
       "      <td>float64</td>\n",
       "      <td>float64</td>\n",
       "      <td>float64</td>\n",
       "      <td>float64</td>\n",
       "      <td>float64</td>\n",
       "      <td>float64</td>\n",
       "      <td>float64</td>\n",
       "      <td>float64</td>\n",
       "      <td>float64</td>\n",
       "      <td>float64</td>\n",
       "      <td>float64</td>\n",
       "      <td>int64</td>\n",
       "      <td>int64</td>\n",
       "      <td>int64</td>\n",
       "    </tr>\n",
       "    <tr>\n",
       "      <th>size</th>\n",
       "      <td>20307</td>\n",
       "      <td>20307</td>\n",
       "      <td>20307</td>\n",
       "      <td>20307</td>\n",
       "      <td>20307</td>\n",
       "      <td>20307</td>\n",
       "      <td>20307</td>\n",
       "      <td>20307</td>\n",
       "      <td>20307</td>\n",
       "      <td>20307</td>\n",
       "      <td>20307</td>\n",
       "      <td>20307</td>\n",
       "      <td>20307</td>\n",
       "      <td>20307</td>\n",
       "      <td>20307</td>\n",
       "      <td>20307</td>\n",
       "      <td>20307</td>\n",
       "      <td>20307</td>\n",
       "      <td>20307</td>\n",
       "      <td>20307</td>\n",
       "    </tr>\n",
       "    <tr>\n",
       "      <th>% null</th>\n",
       "      <td>0</td>\n",
       "      <td>0</td>\n",
       "      <td>0</td>\n",
       "      <td>0</td>\n",
       "      <td>0</td>\n",
       "      <td>0</td>\n",
       "      <td>0</td>\n",
       "      <td>0</td>\n",
       "      <td>0</td>\n",
       "      <td>0</td>\n",
       "      <td>0</td>\n",
       "      <td>0</td>\n",
       "      <td>0</td>\n",
       "      <td>0</td>\n",
       "      <td>0.06</td>\n",
       "      <td>0.06</td>\n",
       "      <td>0</td>\n",
       "      <td>0</td>\n",
       "      <td>0</td>\n",
       "      <td>0</td>\n",
       "    </tr>\n",
       "  </tbody>\n",
       "</table>\n",
       "</div>"
      ],
      "text/plain": [
       "         MLS Number     Area Building SqFt Price Sq Ft List   Lot Size    Acres Year Built Bedrooms Baths Full Baths Half Baths Total Room Count Fireplaces Number  Stories New Construction Pool Private No Of Garage Cap      DOM     CDOM   ones\n",
       "count         20307    20307         20307            20295      20307    20307      20307    20307      20307      20307       20307      20307             20307    20307            19071        18991            20307    20307    20307  20307\n",
       "mean    5.05858e+07  23.0824       2147.88          97.3475    26541.2  1.64219    1845.15   3.0814    2.10602   0.469739       2.153    6.78736          0.551288  1.41446         0.135232     0.105524          1.66342  43.8292  76.8926      1\n",
       "std     2.81651e+07  15.9148       2401.08          94.0759     452789  23.2474    526.213  1.26878   0.984333   0.555771     1.00845    3.71058          0.613521   1.0999          0.34198     0.307235          1.64841  88.1995  158.759      0\n",
       "min          202751        0             0                0          0        0          0        0          0          0           0          0                 0        0                0            0                0      -21       -5      1\n",
       "25%     2.60131e+07       10          1433             1.32     4827.5        0       1976        3          2          0           2          4                 0        1                0            0                1        4        5      1\n",
       "50%     5.07339e+07       21          2030           103.92       7248   0.1573       2000        3          2          0         2.1          7                 1        1                0            0                2       10       16      1\n",
       "75%     7.50709e+07       33          2724           136.88    10478.5   0.2365       2013        4          3          1           3          9                 1        2                0            0                2       49       86      1\n",
       "max     9.93032e+07       87        288174           975.95  6.355e+07     1597       2021       12         13          9        13.1         28                11       31                1            1               64     1869     4468      1\n",
       "dtype         int64  float64       float64          float64    float64  float64    float64  float64    float64    float64     float64    float64           float64  float64          float64      float64          float64    int64    int64  int64\n",
       "size          20307    20307         20307            20307      20307    20307      20307    20307      20307      20307       20307      20307             20307    20307            20307        20307            20307    20307    20307  20307\n",
       "% null            0        0             0                0          0        0          0        0          0          0           0          0                 0        0             0.06         0.06                0        0        0      0"
      ]
     },
     "execution_count": 124,
     "metadata": {},
     "output_type": "execute_result"
    }
   ],
   "source": [
    "# Numerical describe\n",
    "df_stat = df.describe(include = [np.number]) \n",
    "df_stat.loc['dtype'] = df.dtypes\n",
    "df_stat.loc['size'] = len(df)\n",
    "df_stat.loc['% null'] = df.isnull().mean().round(2)\n",
    "df_stat"
   ]
  },
  {
   "cell_type": "code",
   "execution_count": 125,
   "metadata": {},
   "outputs": [
    {
     "data": {
      "text/html": [
       "<div>\n",
       "<style scoped>\n",
       "    .dataframe tbody tr th:only-of-type {\n",
       "        vertical-align: middle;\n",
       "    }\n",
       "\n",
       "    .dataframe tbody tr th {\n",
       "        vertical-align: top;\n",
       "    }\n",
       "\n",
       "    .dataframe thead th {\n",
       "        text-align: right;\n",
       "    }\n",
       "</style>\n",
       "<table border=\"1\" class=\"dataframe\">\n",
       "  <thead>\n",
       "    <tr style=\"text-align: right;\">\n",
       "      <th></th>\n",
       "      <th>Property Type</th>\n",
       "      <th>Status</th>\n",
       "      <th>Street Number</th>\n",
       "      <th>Street Name</th>\n",
       "      <th>Unit Number</th>\n",
       "      <th>City/Location</th>\n",
       "      <th>Zip Code</th>\n",
       "      <th>County</th>\n",
       "      <th>List Price</th>\n",
       "      <th>Close Price</th>\n",
       "      <th>Close Date</th>\n",
       "      <th>Subdivision</th>\n",
       "      <th>Master Planned Community</th>\n",
       "      <th>Market Area</th>\n",
       "      <th>School District</th>\n",
       "      <th>School Elementary</th>\n",
       "      <th>School Middle</th>\n",
       "      <th>School High</th>\n",
       "      <th>Price Sq Ft Sold</th>\n",
       "      <th>Price Acre List</th>\n",
       "      <th>Price Acre Sales</th>\n",
       "      <th>New Construction Desc</th>\n",
       "      <th>Style</th>\n",
       "      <th>List Office MLSID</th>\n",
       "      <th>List Office Name</th>\n",
       "      <th>List Agent MLSID</th>\n",
       "      <th>List Agent Full Name</th>\n",
       "      <th>Selling Office MLSID</th>\n",
       "      <th>Selling Office Name</th>\n",
       "      <th>Selling Agent MLSID</th>\n",
       "      <th>Selling Agent Full Name</th>\n",
       "      <th>Realist Owner Name</th>\n",
       "      <th>Last Change Timestamp</th>\n",
       "      <th>List Date</th>\n",
       "    </tr>\n",
       "  </thead>\n",
       "  <tbody>\n",
       "    <tr>\n",
       "      <th>count</th>\n",
       "      <td>20307</td>\n",
       "      <td>20307</td>\n",
       "      <td>20304</td>\n",
       "      <td>20307</td>\n",
       "      <td>2115</td>\n",
       "      <td>20307</td>\n",
       "      <td>20307</td>\n",
       "      <td>20307</td>\n",
       "      <td>20307</td>\n",
       "      <td>4676</td>\n",
       "      <td>4676</td>\n",
       "      <td>19974</td>\n",
       "      <td>3143</td>\n",
       "      <td>19317</td>\n",
       "      <td>20307</td>\n",
       "      <td>20008</td>\n",
       "      <td>20195</td>\n",
       "      <td>20233</td>\n",
       "      <td>4592</td>\n",
       "      <td>14873</td>\n",
       "      <td>3506</td>\n",
       "      <td>2579</td>\n",
       "      <td>16402</td>\n",
       "      <td>20307</td>\n",
       "      <td>20307</td>\n",
       "      <td>20307</td>\n",
       "      <td>20307</td>\n",
       "      <td>10907</td>\n",
       "      <td>10907</td>\n",
       "      <td>10908</td>\n",
       "      <td>10908</td>\n",
       "      <td>18</td>\n",
       "      <td>20307</td>\n",
       "      <td>15457</td>\n",
       "    </tr>\n",
       "    <tr>\n",
       "      <th>unique</th>\n",
       "      <td>7</td>\n",
       "      <td>9</td>\n",
       "      <td>7966</td>\n",
       "      <td>12448</td>\n",
       "      <td>876</td>\n",
       "      <td>363</td>\n",
       "      <td>772</td>\n",
       "      <td>94</td>\n",
       "      <td>3792</td>\n",
       "      <td>1489</td>\n",
       "      <td>11</td>\n",
       "      <td>10938</td>\n",
       "      <td>110</td>\n",
       "      <td>201</td>\n",
       "      <td>182</td>\n",
       "      <td>1031</td>\n",
       "      <td>459</td>\n",
       "      <td>354</td>\n",
       "      <td>2720</td>\n",
       "      <td>13381</td>\n",
       "      <td>3377</td>\n",
       "      <td>2</td>\n",
       "      <td>108</td>\n",
       "      <td>2403</td>\n",
       "      <td>2202</td>\n",
       "      <td>8643</td>\n",
       "      <td>8511</td>\n",
       "      <td>1793</td>\n",
       "      <td>1623</td>\n",
       "      <td>7337</td>\n",
       "      <td>7034</td>\n",
       "      <td>13</td>\n",
       "      <td>8629</td>\n",
       "      <td>507</td>\n",
       "    </tr>\n",
       "    <tr>\n",
       "      <th>top</th>\n",
       "      <td>Single-Family</td>\n",
       "      <td>Active</td>\n",
       "      <td>0</td>\n",
       "      <td>N Texas Ave</td>\n",
       "      <td>B</td>\n",
       "      <td>Houston</td>\n",
       "      <td>77494</td>\n",
       "      <td>Harris</td>\n",
       "      <td>1,500</td>\n",
       "      <td>1,500</td>\n",
       "      <td>6/15/2020 0:00</td>\n",
       "      <td>None</td>\n",
       "      <td>The Woodlands</td>\n",
       "      <td>Katy - Southwest</td>\n",
       "      <td>27 - Houston</td>\n",
       "      <td>GISD OPEN ENROLL</td>\n",
       "      <td>HOGG MIDDLE SCHOOL (HOUSTON)</td>\n",
       "      <td>LAMAR HIGH SCHOOL (HOUSTON)</td>\n",
       "      <td>0.95</td>\n",
       "      <td>30,000</td>\n",
       "      <td></td>\n",
       "      <td>To Be Built/Under Construction</td>\n",
       "      <td>Traditional</td>\n",
       "      <td>EXPD01</td>\n",
       "      <td>Keller Williams Realty</td>\n",
       "      <td>zainkhan</td>\n",
       "      <td>Lance Loken</td>\n",
       "      <td>nonmls</td>\n",
       "      <td>Non-MLS</td>\n",
       "      <td>nonmls</td>\n",
       "      <td>Non-MLS Agent</td>\n",
       "      <td>Panza Verde Residential Partne</td>\n",
       "      <td>6/14/2020 0:10</td>\n",
       "      <td>6/19/2020 0:00</td>\n",
       "    </tr>\n",
       "    <tr>\n",
       "      <th>freq</th>\n",
       "      <td>12002</td>\n",
       "      <td>6235</td>\n",
       "      <td>387</td>\n",
       "      <td>66</td>\n",
       "      <td>135</td>\n",
       "      <td>7095</td>\n",
       "      <td>449</td>\n",
       "      <td>11061</td>\n",
       "      <td>199</td>\n",
       "      <td>65</td>\n",
       "      <td>978</td>\n",
       "      <td>128</td>\n",
       "      <td>478</td>\n",
       "      <td>616</td>\n",
       "      <td>4430</td>\n",
       "      <td>452</td>\n",
       "      <td>479</td>\n",
       "      <td>926</td>\n",
       "      <td>37</td>\n",
       "      <td>14</td>\n",
       "      <td>11</td>\n",
       "      <td>1581</td>\n",
       "      <td>12191</td>\n",
       "      <td>429</td>\n",
       "      <td>1090</td>\n",
       "      <td>194</td>\n",
       "      <td>220</td>\n",
       "      <td>712</td>\n",
       "      <td>712</td>\n",
       "      <td>456</td>\n",
       "      <td>712</td>\n",
       "      <td>6</td>\n",
       "      <td>67</td>\n",
       "      <td>1041</td>\n",
       "    </tr>\n",
       "    <tr>\n",
       "      <th>dtype</th>\n",
       "      <td>object</td>\n",
       "      <td>object</td>\n",
       "      <td>object</td>\n",
       "      <td>object</td>\n",
       "      <td>object</td>\n",
       "      <td>object</td>\n",
       "      <td>object</td>\n",
       "      <td>object</td>\n",
       "      <td>object</td>\n",
       "      <td>object</td>\n",
       "      <td>object</td>\n",
       "      <td>object</td>\n",
       "      <td>object</td>\n",
       "      <td>object</td>\n",
       "      <td>object</td>\n",
       "      <td>object</td>\n",
       "      <td>object</td>\n",
       "      <td>object</td>\n",
       "      <td>object</td>\n",
       "      <td>object</td>\n",
       "      <td>object</td>\n",
       "      <td>object</td>\n",
       "      <td>object</td>\n",
       "      <td>object</td>\n",
       "      <td>object</td>\n",
       "      <td>object</td>\n",
       "      <td>object</td>\n",
       "      <td>object</td>\n",
       "      <td>object</td>\n",
       "      <td>object</td>\n",
       "      <td>object</td>\n",
       "      <td>object</td>\n",
       "      <td>object</td>\n",
       "      <td>object</td>\n",
       "    </tr>\n",
       "    <tr>\n",
       "      <th>size</th>\n",
       "      <td>20307</td>\n",
       "      <td>20307</td>\n",
       "      <td>20307</td>\n",
       "      <td>20307</td>\n",
       "      <td>20307</td>\n",
       "      <td>20307</td>\n",
       "      <td>20307</td>\n",
       "      <td>20307</td>\n",
       "      <td>20307</td>\n",
       "      <td>20307</td>\n",
       "      <td>20307</td>\n",
       "      <td>20307</td>\n",
       "      <td>20307</td>\n",
       "      <td>20307</td>\n",
       "      <td>20307</td>\n",
       "      <td>20307</td>\n",
       "      <td>20307</td>\n",
       "      <td>20307</td>\n",
       "      <td>20307</td>\n",
       "      <td>20307</td>\n",
       "      <td>20307</td>\n",
       "      <td>20307</td>\n",
       "      <td>20307</td>\n",
       "      <td>20307</td>\n",
       "      <td>20307</td>\n",
       "      <td>20307</td>\n",
       "      <td>20307</td>\n",
       "      <td>20307</td>\n",
       "      <td>20307</td>\n",
       "      <td>20307</td>\n",
       "      <td>20307</td>\n",
       "      <td>20307</td>\n",
       "      <td>20307</td>\n",
       "      <td>20307</td>\n",
       "    </tr>\n",
       "    <tr>\n",
       "      <th>% null</th>\n",
       "      <td>0</td>\n",
       "      <td>0</td>\n",
       "      <td>0</td>\n",
       "      <td>0</td>\n",
       "      <td>0.9</td>\n",
       "      <td>0</td>\n",
       "      <td>0</td>\n",
       "      <td>0</td>\n",
       "      <td>0</td>\n",
       "      <td>0.77</td>\n",
       "      <td>0.77</td>\n",
       "      <td>0.02</td>\n",
       "      <td>0.85</td>\n",
       "      <td>0.05</td>\n",
       "      <td>0</td>\n",
       "      <td>0.01</td>\n",
       "      <td>0.01</td>\n",
       "      <td>0</td>\n",
       "      <td>0.77</td>\n",
       "      <td>0.27</td>\n",
       "      <td>0.83</td>\n",
       "      <td>0.87</td>\n",
       "      <td>0.19</td>\n",
       "      <td>0</td>\n",
       "      <td>0</td>\n",
       "      <td>0</td>\n",
       "      <td>0</td>\n",
       "      <td>0.46</td>\n",
       "      <td>0.46</td>\n",
       "      <td>0.46</td>\n",
       "      <td>0.46</td>\n",
       "      <td>1</td>\n",
       "      <td>0</td>\n",
       "      <td>0.24</td>\n",
       "    </tr>\n",
       "  </tbody>\n",
       "</table>\n",
       "</div>"
      ],
      "text/plain": [
       "        Property Type  Status Street Number  Street Name Unit Number City/Location Zip Code  County List Price Close Price      Close Date Subdivision Master Planned Community       Market Area School District School Elementary                 School Middle                  School High Price Sq Ft Sold Price Acre List Price Acre Sales           New Construction Desc        Style List Office MLSID        List Office Name List Agent MLSID List Agent Full Name Selling Office MLSID             Selling Office Name Selling Agent MLSID Selling Agent Full Name              Realist Owner Name Last Change Timestamp      List Date \n",
       "count           20307   20307         20304        20307        2115         20307    20307   20307      20307        4676            4676       19974                     3143             19317           20307             20008                         20195                        20233             4592           14873             3506                            2579        16402             20307                   20307            20307                20307                10907                           10907               10908                   10908                              18                 20307           15457\n",
       "unique              7       9          7966        12448         876           363      772      94       3792        1489              11       10938                      110               201             182              1031                           459                          354             2720           13381             3377                               2          108              2403                    2202             8643                 8511                 1793                            1623                7337                    7034                              13                  8629             507\n",
       "top     Single-Family  Active             0  N Texas Ave           B       Houston    77494  Harris     1,500       1,500   6/15/2020 0:00        None            The Woodlands  Katy - Southwest    27 - Houston  GISD OPEN ENROLL  HOGG MIDDLE SCHOOL (HOUSTON)  LAMAR HIGH SCHOOL (HOUSTON)            0.95          30,000                    To Be Built/Under Construction  Traditional            EXPD01  Keller Williams Realty         zainkhan          Lance Loken               nonmls  Non-MLS                                     nonmls           Non-MLS Agent  Panza Verde Residential Partne        6/14/2020 0:10  6/19/2020 0:00\n",
       "freq            12002    6235           387           66         135          7095      449   11061        199          65             978         128                      478               616            4430               452                           479                          926               37              14               11                            1581        12191               429                    1090              194                  220                  712                             712                 456                     712                               6                    67            1041\n",
       "dtype          object  object        object       object      object        object   object  object     object      object          object      object                   object            object          object            object                        object                       object           object          object           object                          object       object            object                  object           object               object               object                          object              object                  object                          object                object          object\n",
       "size            20307   20307         20307        20307       20307         20307    20307   20307      20307       20307           20307       20307                    20307             20307           20307             20307                         20307                        20307            20307           20307            20307                           20307        20307             20307                   20307            20307                20307                20307                           20307               20307                   20307                           20307                 20307           20307\n",
       "% null              0       0             0            0         0.9             0        0       0          0        0.77            0.77        0.02                     0.85              0.05               0              0.01                          0.01                            0             0.77            0.27             0.83                            0.87         0.19                 0                       0                0                    0                 0.46                            0.46                0.46                    0.46                               1                     0            0.24"
      ]
     },
     "execution_count": 125,
     "metadata": {},
     "output_type": "execute_result"
    }
   ],
   "source": [
    "# Non-numerical describe\n",
    "df_stat = df.describe(include = ['O']) \n",
    "df_stat.loc['dtype'] = df.dtypes\n",
    "df_stat.loc['size'] = len(df)\n",
    "df_stat.loc['% null'] = df.isnull().mean().round(2)\n",
    "df_stat"
   ]
  },
  {
   "cell_type": "markdown",
   "metadata": {},
   "source": [
    "## Does having private pool add value to the property?"
   ]
  },
  {
   "cell_type": "code",
   "execution_count": 126,
   "metadata": {},
   "outputs": [],
   "source": [
    "# We drop rows with missing pool data and this should not casue any problem as they stand for 6% of total dataset\n",
    "df = df.dropna(subset=['Pool Private'])\n",
    "# Drop NaN from Price Sq Ft List $/SQF as these were calcualted from dividing Price Sq Ft List with lost size\n",
    "df = df.dropna(subset=['Price Sq Ft List'])\n",
    "# Remove rentals as the the rent since, being much smaller than listing price, distorsts the analysis\n",
    "df = df[df['Property Type'] != 'Rental']"
   ]
  },
  {
   "cell_type": "code",
   "execution_count": 127,
   "metadata": {},
   "outputs": [
    {
     "name": "stdout",
     "output_type": "stream",
     "text": [
      "test sample size: 1764\n",
      "control sample size: 11792\n",
      "test proportion: 0.13012688108586604\n",
      "\n"
     ]
    },
    {
     "data": {
      "text/plain": [
       "Ttest_indResult(statistic=14.454940984116263, pvalue=5.217380454704521e-47)"
      ]
     },
     "execution_count": 127,
     "metadata": {},
     "output_type": "execute_result"
    }
   ],
   "source": [
    "# How large is each group?\n",
    "print('test sample size:', len(df[df['Pool Private'] == 1]))\n",
    "print('control sample size:', len(df[df['Pool Private'] == 0]))\n",
    "print('test proportion:', len(df[df['Pool Private'] == 1])/ len(df))\n",
    "print()\n",
    "\n",
    "# Are the test and control groups significantly different?\n",
    "stats.ttest_ind(df[df['Pool Private'] == 1]['Price Sq Ft List'],   df[df['Pool Private'] == 0]['Price Sq Ft List'])"
   ]
  },
  {
   "cell_type": "code",
   "execution_count": null,
   "metadata": {},
   "outputs": [],
   "source": []
  },
  {
   "cell_type": "markdown",
   "metadata": {},
   "source": [
    "### p-value is less than 0.05 and based on this we can reject the null hypothesis and claim that there is a difference in price for properties with access to private pool. However, we also need to check if the assumption of normality is not violated in this t-test. We will do this both visually and with Shapiro-Wilk test statistic"
   ]
  },
  {
   "cell_type": "code",
   "execution_count": 128,
   "metadata": {},
   "outputs": [
    {
     "name": "stdout",
     "output_type": "stream",
     "text": [
      "DescribeResult(nobs=1764, minmax=(0.0, 975.95), mean=169.5242403628118, variance=10905.940185185527, skewness=3.0061045662014387, kurtosis=12.103304788127028)\n",
      "DescribeResult(nobs=11792, minmax=(0.0, 935.83), mean=139.83745590230666, variance=5809.199026976259, skewness=2.7780603773444685, kurtosis=14.330586918184892)\n"
     ]
    },
    {
     "data": {
      "image/png": "[encoded data removed]",
      "text/plain": [
       "<Figure size 1440x720 with 1 Axes>"
      ]
     },
     "metadata": {
      "needs_background": "light"
     },
     "output_type": "display_data"
    }
   ],
   "source": [
    "print(stats.describe(df[df['Pool Private'] == 1]['Price Sq Ft List']))\n",
    "print(stats.describe(df[df['Pool Private'] == 0]['Price Sq Ft List']))\n",
    "plt.figure(figsize=(20,10))\n",
    "\n",
    "plt.hist(df[df['Pool Private'] == 1]['Price Sq Ft List'], bins=10, range=(0, 200), alpha = .95, label='Private Pool')\n",
    "plt.hist(df[df['Pool Private'] == 0]['Price Sq Ft List'], bins=10, range=(0, 200), alpha = .5,  label='No Private Pool')\n",
    "plt.xlabel(\"$/sqf\", size=20)\n",
    "plt.ylabel(\"Count\", size=20)\n",
    "plt.legend(loc='upper right', fontsize='x-large', title_fontsize='40')\n",
    "plt.title(\"$/sqf for properties with and without pool\", size=30)\n",
    "ax.tick_params(axis = 'both', which = 'minor', labelsize = 16)\n",
    "plt.tick_params(axis = 'both', which = 'major', labelsize = 24)\n",
    "plt.show()"
   ]
  },
  {
   "cell_type": "code",
   "execution_count": 129,
   "metadata": {},
   "outputs": [
    {
     "name": "stdout",
     "output_type": "stream",
     "text": [
      "(0.7661536931991577, 0.0)\n",
      "(0.6872397661209106, 0.0)\n"
     ]
    },
    {
     "name": "stderr",
     "output_type": "stream",
     "text": [
      "C:\\Users\\User\\anaconda3\\envs\\prv\\lib\\site-packages\\scipy\\stats\\morestats.py:1676: UserWarning: p-value may not be accurate for N > 5000.\n",
      "  warnings.warn(\"p-value may not be accurate for N > 5000.\")\n"
     ]
    }
   ],
   "source": [
    "print(stats.shapiro(df[df['Pool Private'] == 0]['Price Sq Ft List']))\n",
    "print(stats.shapiro(df[df['Pool Private'] == 1]['Price Sq Ft List']))"
   ]
  },
  {
   "cell_type": "markdown",
   "metadata": {},
   "source": [
    "### The shape is not a perfect bell-shape however and this is also confirmed by W statistc between 0.7 to 0.8 indicating that the distribution is not very close to a normal distribution"
   ]
  },
  {
   "cell_type": "markdown",
   "metadata": {},
   "source": [
    "#### Another option for comparing the frequencies is with boxplot"
   ]
  },
  {
   "cell_type": "code",
   "execution_count": 130,
   "metadata": {},
   "outputs": [
    {
     "name": "stderr",
     "output_type": "stream",
     "text": [
      "No handles with labels found to put in legend.\n"
     ]
    },
    {
     "data": {
      "text/plain": [
       "<Figure size 1440x720 with 0 Axes>"
      ]
     },
     "metadata": {},
     "output_type": "display_data"
    },
    {
     "data": {
      "image/png": "[encoded data removed]",
      "text/plain": [
       "<Figure size 720x432 with 1 Axes>"
      ]
     },
     "metadata": {
      "needs_background": "light"
     },
     "output_type": "display_data"
    }
   ],
   "source": [
    "#Create a boxplot\n",
    "plt.figure(figsize=(20,10))\n",
    "df.boxplot('Price Sq Ft List', by='Pool Private', figsize=(10, 6))\n",
    "plt.xlabel(\"Has Pool:No=0, Yes=1\", size=20)\n",
    "plt.ylabel(\"Count\", size=20)\n",
    "plt.legend(loc='upper right', fontsize='x-large', title_fontsize='40')\n",
    "plt.title(\"$/sqf for properties with and without pool\", size=30)\n",
    "plt.xlabel(\"$/sqf\", size=20)\n",
    "plt.ylabel(\"Count\", size=20)\n",
    "ax.tick_params(axis = 'both', which = 'minor', labelsize = 16)\n",
    "plt.tick_params(axis = 'both', which = 'major', labelsize = 24)\n",
    "plt.show()"
   ]
  },
  {
   "cell_type": "markdown",
   "metadata": {},
   "source": [
    "## The t-test at .05 significance proved that there is a difference in mean values of these two groups. Now we should calculate the scale of this difference so to see the real life implication of such difference. This is called the effect size."
   ]
  },
  {
   "cell_type": "markdown",
   "metadata": {},
   "source": [
    "### For the effect size we will use Cohen’s d that measures the difference between the mean from two Gaussian-distributed variables. This assumption allows us to use the standard score and summarizes the difference in terms of the number of standard deviations. And here is one interpretation of such standarization:Small Effect Size: d=0.20, Medium Effect Size: d=0.50, Large Effect Size: d=0.80."
   ]
  },
  {
   "cell_type": "code",
   "execution_count": 131,
   "metadata": {},
   "outputs": [],
   "source": [
    "# function to calculate cohen's d for independet samples\n",
    "def cohend(d1, d2):\n",
    "    # calculate the size of samples\n",
    "    n1, n2 = len(d1), len(d2)\n",
    "    # calculate teh variance of the samples\n",
    "    s1, s2 = var(d1, ddof=1), var(d2, ddof=1)\n",
    "    #calculate the pooled standard deviation\n",
    "    s = sqrt(((n1 -1) * s1 + (n2 -1) *s2) / (n1 + n2 - 2))\n",
    "    # calculate the means of the samples\n",
    "    u1, u2 = mean(d1), mean(d2)\n",
    "    # calculate the effect size\n",
    "    return (u1 - u2) / s"
   ]
  },
  {
   "cell_type": "code",
   "execution_count": 132,
   "metadata": {},
   "outputs": [],
   "source": [
    "# function to calcualte pooled standard deviation\n",
    "def pooled_std(d1, d2):\n",
    "    # calculate the size of samples\n",
    "    n1, n2 = len(d1), len(d2)\n",
    "    # calculate teh variance of the samples\n",
    "    s1, s2 = var(d1, ddof=1), var(d2, ddof=1)\n",
    "    #calculate the pooled standard deviation\n",
    "    s = sqrt(((n1 -1) * s1 + (n2 -1) *s2) / (n1 + n2 - 2))\n",
    "    return s"
   ]
  },
  {
   "cell_type": "code",
   "execution_count": 133,
   "metadata": {},
   "outputs": [
    {
     "name": "stdout",
     "output_type": "stream",
     "text": [
      "Cohen d: 0.369011\n",
      "Pooled standard deviation: 80.449636\n"
     ]
    }
   ],
   "source": [
    "# Calcualte d\n",
    "sample1 = df[df['Pool Private'] == 1]['Price Sq Ft List']\n",
    "sample2 = df[df['Pool Private'] == 0]['Price Sq Ft List']\n",
    "\n",
    "d = cohend(sample1, sample2)\n",
    "s = pooled_std(sample1, sample2)\n",
    "print('Cohen d: %3f' % d)\n",
    "print ('Pooled standard deviation: %3f' % s)"
   ]
  },
  {
   "cell_type": "markdown",
   "metadata": {},
   "source": [
    "### We can see that the difference between the mean is 40% of one standards deviation interpreted as a medium effect size. This implies properties with pools deviate with 32 dollar per sqf. This is too big to be true. I suspect the result is biased as more expensive properties tend to have private pool. This means our samples are not randomized properly. "
   ]
  },
  {
   "cell_type": "markdown",
   "metadata": {},
   "source": [
    "#### We can also use pointplot to represent the central tendency for these two populations. As you can see these groups are very different and it shows that very often it is the more expensive properties that have access private pool. Therefore we need to redo this analysis and start with a population where properties are similar in terms of size and value."
   ]
  },
  {
   "cell_type": "code",
   "execution_count": 134,
   "metadata": {},
   "outputs": [
    {
     "name": "stderr",
     "output_type": "stream",
     "text": [
      "No handles with labels found to put in legend.\n"
     ]
    },
    {
     "data": {
      "image/png": "[encoded data removed]",
      "text/plain": [
       "<Figure size 1440x720 with 1 Axes>"
      ]
     },
     "metadata": {},
     "output_type": "display_data"
    }
   ],
   "source": [
    "sns.set(style=\"darkgrid\")\n",
    "plt.figure(figsize=(20,10))\n",
    "ax = sns.pointplot(x=df_plot['Pool Private'], y=df_plot['Price Sq Ft List'], data=df_plot)\n",
    "plt.xlabel(\"Has Pool: No=0, Yes=1\", size=20)\n",
    "plt.ylabel(\"Count\", size=20)\n",
    "plt.legend(loc='upper right', fontsize='x-large', title_fontsize='40')\n",
    "plt.title(\"$/sqf for properties with and without pool\", size=30)\n",
    "plt.xlabel(\"Has Private Pool: 0 = No, 1 = Yes\", size=20)\n",
    "plt.ylabel(\"Count\", size=20)\n",
    "ax.tick_params(axis = 'both', which = 'minor', labelsize = 16)\n",
    "plt.tick_params(axis = 'both', which = 'major', labelsize = 24)\n",
    "plt.show()"
   ]
  },
  {
   "cell_type": "code",
   "execution_count": 135,
   "metadata": {},
   "outputs": [
    {
     "data": {
      "text/plain": [
       "1764.0"
      ]
     },
     "execution_count": 135,
     "metadata": {},
     "output_type": "execute_result"
    }
   ],
   "source": [
    "#check how properties with pools are in the dataset and what is the distribution of the price per sqf\n",
    "df[df['Pool Private'] ==1]['Pool Private'].sum()"
   ]
  },
  {
   "cell_type": "markdown",
   "metadata": {},
   "source": [
    "### Based on above we should rerun the hypothesis test and this time focus only on property with minimum 150 dollar per sqf"
   ]
  },
  {
   "cell_type": "code",
   "execution_count": 136,
   "metadata": {},
   "outputs": [],
   "source": [
    "df10 = df[['Pool Private', 'Price Sq Ft List']]\n",
    "df10 = df10[df10['Price Sq Ft List'] >=150]"
   ]
  },
  {
   "cell_type": "code",
   "execution_count": 137,
   "metadata": {},
   "outputs": [
    {
     "name": "stdout",
     "output_type": "stream",
     "text": [
      "test sample size: 712\n",
      "control sample size: 3167\n",
      "test proportion: 0.18355246197473576\n",
      "\n"
     ]
    },
    {
     "data": {
      "text/plain": [
       "Ttest_indResult(statistic=4.821470846042902, pvalue=1.479710010767936e-06)"
      ]
     },
     "execution_count": 137,
     "metadata": {},
     "output_type": "execute_result"
    }
   ],
   "source": [
    "# How large is each group?\n",
    "\n",
    "group1 = df10.loc[df['Pool Private'] == 1]['Price Sq Ft List']\n",
    "group2 = df10.loc[df['Pool Private'] == 0]['Price Sq Ft List']\n",
    "print('test sample size:', len(group1))\n",
    "print('control sample size:', len(group2))\n",
    "print('test proportion:', len(df10[df10['Pool Private'] == 1])/ len(df10))\n",
    "print()\n",
    "\n",
    "# Are the test and control groups significantly different?\n",
    "stats.ttest_ind(group1, group2)"
   ]
  },
  {
   "cell_type": "code",
   "execution_count": null,
   "metadata": {},
   "outputs": [],
   "source": []
  },
  {
   "cell_type": "markdown",
   "metadata": {},
   "source": [
    "### The difference between these two populations is still too large to make this experiment meaningful. We can narrow down the focus but because of the size of the dataset gets smaller we may face increase in Type I Error risk (i.e. false positive or the p-value is optimistically small) also increases. One way to get a measure for such error is to calculate the Statistical Power of the hypothesis test. Also this is the probability of true positive result. This is only useful when the null hypothesis is rejected which is the case here. Furthermore, the higher the statistical power for a given experiment, the lower the probability of making a Type II (false negative) error. That is the higher the probability of detecting an effect when there is an effect.\n",
    "#### Power = 1 - Type II Error\n",
    "#### Pr(True Positive) = 1 - Pr(False Negative)\n",
    "\n"
   ]
  },
  {
   "cell_type": "markdown",
   "metadata": {},
   "source": [
    "### First, let's assume we like to have a power of 80% for alpha = 0.05 and effect size of 80% (a kind of strong effect), then what is the required sample size?"
   ]
  },
  {
   "cell_type": "code",
   "execution_count": null,
   "metadata": {},
   "outputs": [],
   "source": []
  },
  {
   "cell_type": "code",
   "execution_count": 138,
   "metadata": {},
   "outputs": [
    {
     "name": "stdout",
     "output_type": "stream",
     "text": [
      "Required sample size: 25.52\n"
     ]
    }
   ],
   "source": [
    "# estimate sample size via power analysis\n",
    "from statsmodels.stats.power import TTestIndPower\n",
    "# parameters for power analysis\n",
    "effect_size = 0.8\n",
    "alpha = 0.05\n",
    "power = 0.8\n",
    "# perform power analysis\n",
    "power_analysis = TTestIndPower()\n",
    "sample_size = power_analysis.solve_power(effect_size = effect_size, power = power, alpha = alpha)\n",
    "#result = analysis.solve_power(effect, power=power, nobs1=None, ratio=0.001, alpha=alpha)\n",
    "print('Required sample size: {0:.2f}'.format(sample_size))"
   ]
  },
  {
   "cell_type": "markdown",
   "metadata": {},
   "source": [
    "### It seems our sample size is much than what we need so we should narrow down the types of properties we have selected for this analysis. But before that let's see how power change when we modify the rest of the building blocks of this power analysis."
   ]
  },
  {
   "cell_type": "code",
   "execution_count": 139,
   "metadata": {},
   "outputs": [
    {
     "data": {
      "image/png": "[encoded data removed]",
      "text/plain": [
       "<Figure size 432x288 with 2 Axes>"
      ]
     },
     "metadata": {},
     "output_type": "display_data"
    },
    {
     "data": {
      "text/plain": [
       "<Figure size 1440x720 with 0 Axes>"
      ]
     },
     "metadata": {},
     "output_type": "display_data"
    }
   ],
   "source": [
    "# power vs. number of observations \n",
    "\n",
    "fig = plt.figure()\n",
    "ax = fig.add_subplot(2,1,1)\n",
    "fig = TTestIndPower().plot_power(dep_var='nobs',\n",
    "                                 nobs= np.arange(2, 200),\n",
    "                                 effect_size=np.array([0.2, 0.5, 0.8]),\n",
    "                                 alpha=0.01,\n",
    "                                 ax=ax, title='Power of t-Test' + '\\n' + r'$\\alpha = 0.01$')\n",
    "ax.get_legend().remove()\n",
    "ax = fig.add_subplot(2,1,2)\n",
    "fig = TTestIndPower().plot_power(dep_var='nobs',\n",
    "                                 nobs= np.arange(2, 200),\n",
    "                                 effect_size=np.array([0.2, 0.5, 0.8]),\n",
    "                                 alpha=0.05,\n",
    "                                 ax=ax, title=r'$\\alpha = 0.05$') \n",
    "\n",
    "# Adjust the format of plots\n",
    "left  = 0.0125  # the left side of the subplots of the figure\n",
    "right = 1.9    # the right side of the subplots of the figure\n",
    "bottom = 0.01   # the bottom of the subplots of the figure\n",
    "top = 0.9      # the top of the subplots of the figure\n",
    "wspace = 0.42   # the amount of width reserved for blank space between subplots\n",
    "hspace = 0.92   # the amount of height reserved for white space between subplots\n",
    "plt.figure(figsize=(20,10))\n",
    "fig.subplots_adjust(left=left, bottom=bottom, right=right, top=top, wspace=wspace, hspace=hspace)\n"
   ]
  },
  {
   "cell_type": "markdown",
   "metadata": {},
   "source": [
    "### Based on above we can safely narrow our focus on properties in a very tight range of value per square feet and redo the hypothesis test"
   ]
  },
  {
   "cell_type": "markdown",
   "metadata": {},
   "source": [
    "#### We focus onow on properties in range of 150 dollar/sqf to 250 dollar/sqf"
   ]
  },
  {
   "cell_type": "code",
   "execution_count": 140,
   "metadata": {},
   "outputs": [],
   "source": [
    "df20 = df[['Pool Private', 'Price Sq Ft List']]\n",
    "df20 = df10[(df10['Price Sq Ft List'] >=150) & (df10['Price Sq Ft List'] <=250)]"
   ]
  },
  {
   "cell_type": "code",
   "execution_count": 141,
   "metadata": {},
   "outputs": [
    {
     "name": "stdout",
     "output_type": "stream",
     "text": [
      "test sample size: 488\n",
      "control sample size: 2359\n",
      "test proportion: 0.17140850017562345\n",
      "\n"
     ]
    },
    {
     "data": {
      "text/plain": [
       "Ttest_indResult(statistic=-2.9261553075808835, pvalue=0.003458975265345916)"
      ]
     },
     "execution_count": 141,
     "metadata": {},
     "output_type": "execute_result"
    }
   ],
   "source": [
    "# How large is each group?\n",
    "\n",
    "group1 = df20.loc[df['Pool Private'] == 1]['Price Sq Ft List']\n",
    "group2 = df20.loc[df['Pool Private'] == 0]['Price Sq Ft List']\n",
    "print('test sample size:', len(group1))\n",
    "print('control sample size:', len(group2))\n",
    "print('test proportion:', len(df20[df20['Pool Private'] == 1])/ len(df20))\n",
    "print()\n",
    "\n",
    "# Are the test and control groups significantly different?\n",
    "stats.ttest_ind(group1, group2)"
   ]
  },
  {
   "cell_type": "code",
   "execution_count": 142,
   "metadata": {},
   "outputs": [
    {
     "name": "stdout",
     "output_type": "stream",
     "text": [
      "DescribeResult(nobs=488, minmax=(150.02, 249.96), mean=182.2042213114754, variance=751.3688297825428, skewness=0.8210897264189734, kurtosis=-0.3539369265085326)\n",
      "(0.9357481002807617, 9.02579827391877e-31)\n",
      "(0.9003573656082153, 2.6287507044998376e-17)\n"
     ]
    },
    {
     "data": {
      "image/png": "[encoded data removed]",
      "text/plain": [
       "<Figure size 1440x720 with 1 Axes>"
      ]
     },
     "metadata": {},
     "output_type": "display_data"
    }
   ],
   "source": [
    "print(stats.describe(df20[df20['Pool Private'] == 1]['Price Sq Ft List']))\n",
    "\n",
    "print(stats.shapiro(df20[df20['Pool Private'] == 0]['Price Sq Ft List']))\n",
    "print(stats.shapiro(df20[df20['Pool Private'] == 1]['Price Sq Ft List']))\n",
    "\n",
    "plt.figure(figsize=(20,10))\n",
    "\n",
    "plt.hist(group1, bins=10, range=(140, 260), alpha = .95, label='Private Pool')\n",
    "plt.hist(group2, bins=10, range=(140, 260), alpha = .5, label='No Private Pool')\n",
    "\n",
    "plt.xlabel(\"$/sqf\", size=20)\n",
    "plt.ylabel(\"Count\", size=20)\n",
    "plt.legend(loc='upper right', fontsize='x-large', title_fontsize='40')\n",
    "plt.title(\"$/sqf for properties with and without pool\", size=30)\n",
    "ax.tick_params(axis = 'both', which = 'minor', labelsize = 16)\n",
    "plt.tick_params(axis = 'both', which = 'major', labelsize = 24)\n",
    "plt.show()"
   ]
  },
  {
   "cell_type": "markdown",
   "metadata": {},
   "source": [
    "### p-value is less than 0.05 and based on this we can reject the null hypothesis and claim that there is a difference in price for properties with access to private pool. "
   ]
  },
  {
   "cell_type": "code",
   "execution_count": 143,
   "metadata": {},
   "outputs": [
    {
     "name": "stderr",
     "output_type": "stream",
     "text": [
      "No handles with labels found to put in legend.\n"
     ]
    },
    {
     "data": {
      "image/png": "[encoded data removed]",
      "text/plain": [
       "<Figure size 1440x720 with 1 Axes>"
      ]
     },
     "metadata": {},
     "output_type": "display_data"
    }
   ],
   "source": [
    "sns.set(style=\"darkgrid\")\n",
    "plt.figure(figsize=(20,10))\n",
    "ax = sns.pointplot(x=df20['Pool Private'], y=df20['Price Sq Ft List'], data=df20)\n",
    "plt.xlabel(\"Has Pool: No=0, Yes=1\", size=20)\n",
    "plt.ylabel(\"Count\", size=20)\n",
    "plt.legend(loc='upper right', fontsize='x-large', title_fontsize='40')\n",
    "plt.title(\"$/sqf for properties with and without pool\", size=30)\n",
    "plt.xlabel(\"Has Private Pool: 0 = No, 1 = Yes\", size=20)\n",
    "plt.ylabel(\"Count\", size=20)\n",
    "ax.tick_params(axis = 'both', which = 'minor', labelsize = 16)\n",
    "plt.tick_params(axis = 'both', which = 'major', labelsize = 24)\n",
    "plt.show()"
   ]
  },
  {
   "cell_type": "code",
   "execution_count": null,
   "metadata": {},
   "outputs": [],
   "source": []
  },
  {
   "cell_type": "code",
   "execution_count": null,
   "metadata": {},
   "outputs": [],
   "source": []
  },
  {
   "cell_type": "markdown",
   "metadata": {},
   "source": [
    "### Below are extra vizualization for the dataset"
   ]
  },
  {
   "cell_type": "code",
   "execution_count": null,
   "metadata": {},
   "outputs": [],
   "source": []
  },
  {
   "cell_type": "code",
   "execution_count": 147,
   "metadata": {},
   "outputs": [
    {
     "name": "stderr",
     "output_type": "stream",
     "text": [
      "BokehUserWarning: ColumnDataSource's columns must be of the same length. Current lengths: ('county', 8806), ('x', 13556), ('y', 13556), ('zip', 13556)\n"
     ]
    }
   ],
   "source": [
    "df['year'] = pd.DatetimeIndex(df['List Date ']).year\n",
    "\n",
    "# Make the ColumnDataSource: source\n",
    "source = ColumnDataSource(data={\n",
    "    'x': df['Building SqFt'],\n",
    "    'y': df['Price Sq Ft List'],\n",
    "    'county': df[(df['County'] == 'Harris') | (df['County'] == 'Fort Bend')]['County'],\n",
    "    'zip': df['Zip Code'],\n",
    "})"
   ]
  },
  {
   "cell_type": "code",
   "execution_count": 148,
   "metadata": {},
   "outputs": [],
   "source": [
    "\n",
    "# Save the minimum and maximum values of the gdp column: xmin, xmax\n",
    "xmin, xmax = min(df['Building SqFt']), max(df['Building SqFt'])\n",
    "\n",
    "# Save the minimum and maximum values of the co2 column: ymin, ymax\n",
    "ymin, ymax = min(df['Price Sq Ft List']), max(df['Price Sq Ft List'])\n"
   ]
  },
  {
   "cell_type": "code",
   "execution_count": 149,
   "metadata": {},
   "outputs": [],
   "source": [
    "# Create the figure: plot\n",
    "plot = figure(title=' Real Estate', \n",
    "              plot_height=600, plot_width=900,\n",
    "              x_range=(xmin, xmax),\n",
    "              y_range=(ymin, ymax), y_axis_type='log')"
   ]
  },
  {
   "cell_type": "code",
   "execution_count": 159,
   "metadata": {},
   "outputs": [
    {
     "name": "stderr",
     "output_type": "stream",
     "text": [
      "BokehDeprecationWarning: 'legend' keyword is deprecated, use explicit 'legend_label', 'legend_field', or 'legend_group' keywords instead\n"
     ]
    },
    {
     "data": {
      "text/html": [
       "<div style=\"display: table;\"><div style=\"display: table-row;\"><div style=\"display: table-cell;\"><b title=\"bokeh.models.renderers.GlyphRenderer\">GlyphRenderer</b>(</div><div style=\"display: table-cell;\">id&nbsp;=&nbsp;'1154', <span id=\"1181\" style=\"cursor: pointer;\">&hellip;)</span></div></div><div class=\"1180\" style=\"display: none;\"><div style=\"display: table-cell;\"></div><div style=\"display: table-cell;\">data_source&nbsp;=&nbsp;ColumnDataSource(id='1001', ...),</div></div><div class=\"1180\" style=\"display: none;\"><div style=\"display: table-cell;\"></div><div style=\"display: table-cell;\">glyph&nbsp;=&nbsp;Circle(id='1152', ...),</div></div><div class=\"1180\" style=\"display: none;\"><div style=\"display: table-cell;\"></div><div style=\"display: table-cell;\">hover_glyph&nbsp;=&nbsp;None,</div></div><div class=\"1180\" style=\"display: none;\"><div style=\"display: table-cell;\"></div><div style=\"display: table-cell;\">js_event_callbacks&nbsp;=&nbsp;{},</div></div><div class=\"1180\" style=\"display: none;\"><div style=\"display: table-cell;\"></div><div style=\"display: table-cell;\">js_property_callbacks&nbsp;=&nbsp;{},</div></div><div class=\"1180\" style=\"display: none;\"><div style=\"display: table-cell;\"></div><div style=\"display: table-cell;\">level&nbsp;=&nbsp;'glyph',</div></div><div class=\"1180\" style=\"display: none;\"><div style=\"display: table-cell;\"></div><div style=\"display: table-cell;\">muted&nbsp;=&nbsp;False,</div></div><div class=\"1180\" style=\"display: none;\"><div style=\"display: table-cell;\"></div><div style=\"display: table-cell;\">muted_glyph&nbsp;=&nbsp;None,</div></div><div class=\"1180\" style=\"display: none;\"><div style=\"display: table-cell;\"></div><div style=\"display: table-cell;\">name&nbsp;=&nbsp;None,</div></div><div class=\"1180\" style=\"display: none;\"><div style=\"display: table-cell;\"></div><div style=\"display: table-cell;\">nonselection_glyph&nbsp;=&nbsp;Circle(id='1153', ...),</div></div><div class=\"1180\" style=\"display: none;\"><div style=\"display: table-cell;\"></div><div style=\"display: table-cell;\">selection_glyph&nbsp;=&nbsp;None,</div></div><div class=\"1180\" style=\"display: none;\"><div style=\"display: table-cell;\"></div><div style=\"display: table-cell;\">subscribed_events&nbsp;=&nbsp;[],</div></div><div class=\"1180\" style=\"display: none;\"><div style=\"display: table-cell;\"></div><div style=\"display: table-cell;\">tags&nbsp;=&nbsp;[],</div></div><div class=\"1180\" style=\"display: none;\"><div style=\"display: table-cell;\"></div><div style=\"display: table-cell;\">view&nbsp;=&nbsp;CDSView(id='1155', ...),</div></div><div class=\"1180\" style=\"display: none;\"><div style=\"display: table-cell;\"></div><div style=\"display: table-cell;\">visible&nbsp;=&nbsp;True,</div></div><div class=\"1180\" style=\"display: none;\"><div style=\"display: table-cell;\"></div><div style=\"display: table-cell;\">x_range_name&nbsp;=&nbsp;'default',</div></div><div class=\"1180\" style=\"display: none;\"><div style=\"display: table-cell;\"></div><div style=\"display: table-cell;\">y_range_name&nbsp;=&nbsp;'default')</div></div></div>\n",
       "<script>\n",
       "(function() {\n",
       "  var expanded = false;\n",
       "  var ellipsis = document.getElementById(\"1181\");\n",
       "  ellipsis.addEventListener(\"click\", function() {\n",
       "    var rows = document.getElementsByClassName(\"1180\");\n",
       "    for (var i = 0; i < rows.length; i++) {\n",
       "      var el = rows[i];\n",
       "      el.style.display = expanded ? \"none\" : \"table-row\";\n",
       "    }\n",
       "    ellipsis.innerHTML = expanded ? \"&hellip;)\" : \"&lsaquo;&lsaquo;&lsaquo;\";\n",
       "    expanded = !expanded;\n",
       "  });\n",
       "})();\n",
       "</script>\n"
      ],
      "text/plain": [
       "GlyphRenderer(id='1154', ...)"
      ]
     },
     "execution_count": 159,
     "metadata": {},
     "output_type": "execute_result"
    }
   ],
   "source": [
    "# Add circle glyphs to the plot\n",
    "county_selected = ['Harris', 'Fort Bend']\n",
    "color_mapper = CategoricalColorMapper(factors=county_selected, palette=Spectral6)\n",
    "plot.circle(x='x', y='y', fill_alpha=0.8, source=source, legend='county',  color=dict(field='county', transform=color_mapper), size=7)"
   ]
  },
  {
   "cell_type": "code",
   "execution_count": 160,
   "metadata": {},
   "outputs": [],
   "source": [
    "# Set the legend.location attribute of the plot\n",
    "plot.legend.location = 'bottom_right'\n",
    "\n",
    "# Set the x-axis label\n",
    "plot.xaxis.axis_label = 'Building $/sqf'\n",
    "\n",
    "# Set the y-axis label\n",
    "plot.yaxis.axis_label = 'Price $/sqf'"
   ]
  },
  {
   "cell_type": "code",
   "execution_count": 161,
   "metadata": {},
   "outputs": [],
   "source": [
    "show(plot)"
   ]
  },
  {
   "cell_type": "code",
   "execution_count": 162,
   "metadata": {},
   "outputs": [],
   "source": [
    "from scipy import stats\n",
    "#remove outliers\n",
    "df = df[(np.abs(stats.zscore(df[['Building SqFt','Price Sq Ft List']])) < 3).all(axis=1)]"
   ]
  },
  {
   "cell_type": "markdown",
   "metadata": {},
   "source": [
    "### Static Hexagonal Binning Plot"
   ]
  },
  {
   "cell_type": "code",
   "execution_count": null,
   "metadata": {},
   "outputs": [],
   "source": []
  },
  {
   "cell_type": "code",
   "execution_count": 155,
   "metadata": {},
   "outputs": [
    {
     "data": {
      "text/plain": [
       "<matplotlib.axes._subplots.AxesSubplot at 0x2b25490c5c8>"
      ]
     },
     "execution_count": 155,
     "metadata": {},
     "output_type": "execute_result"
    },
    {
     "data": {
      "image/png": "[encoded data removed]",
      "text/plain": [
       "<Figure size 1440x720 with 1 Axes>"
      ]
     },
     "metadata": {},
     "output_type": "display_data"
    }
   ],
   "source": [
    "# generate KDE plot: first two parameters are arrays of X and Y coordinates of data points\n",
    "# parameter shade is set to True so that the contours are filled with a color gradient based on number of data points\n",
    "plt.figure(figsize=(20,10))\n",
    "sns.kdeplot(df['Building SqFt'],df['Price Sq Ft List'], shade=True)"
   ]
  },
  {
   "cell_type": "code",
   "execution_count": 156,
   "metadata": {},
   "outputs": [
    {
     "data": {
      "text/html": [
       "<div>\n",
       "<style scoped>\n",
       "    .dataframe tbody tr th:only-of-type {\n",
       "        vertical-align: middle;\n",
       "    }\n",
       "\n",
       "    .dataframe tbody tr th {\n",
       "        vertical-align: top;\n",
       "    }\n",
       "\n",
       "    .dataframe thead th {\n",
       "        text-align: right;\n",
       "    }\n",
       "</style>\n",
       "<table border=\"1\" class=\"dataframe\">\n",
       "  <thead>\n",
       "    <tr style=\"text-align: right;\">\n",
       "      <th></th>\n",
       "      <th>MLS Number</th>\n",
       "      <th>Property Type</th>\n",
       "      <th>Status</th>\n",
       "      <th>Street Number</th>\n",
       "      <th>Street Name</th>\n",
       "      <th>Unit Number</th>\n",
       "      <th>City/Location</th>\n",
       "      <th>Zip Code</th>\n",
       "      <th>County</th>\n",
       "      <th>List Price</th>\n",
       "      <th>Close Price</th>\n",
       "      <th>Close Date</th>\n",
       "      <th>Area</th>\n",
       "      <th>Subdivision</th>\n",
       "      <th>Master Planned Community</th>\n",
       "      <th>Market Area</th>\n",
       "      <th>School District</th>\n",
       "      <th>School Elementary</th>\n",
       "      <th>School Middle</th>\n",
       "      <th>School High</th>\n",
       "      <th>Building SqFt</th>\n",
       "      <th>Price Sq Ft List</th>\n",
       "      <th>Price Sq Ft Sold</th>\n",
       "      <th>Lot Size</th>\n",
       "      <th>Acres</th>\n",
       "      <th>Price Acre List</th>\n",
       "      <th>Price Acre Sales</th>\n",
       "      <th>Year Built</th>\n",
       "      <th>Bedrooms</th>\n",
       "      <th>Baths Full</th>\n",
       "      <th>Baths Half</th>\n",
       "      <th>Baths Total</th>\n",
       "      <th>Room Count</th>\n",
       "      <th>Fireplaces Number</th>\n",
       "      <th>Stories</th>\n",
       "      <th>New Construction</th>\n",
       "      <th>New Construction Desc</th>\n",
       "      <th>Pool Private</th>\n",
       "      <th>No Of Garage Cap</th>\n",
       "      <th>Style</th>\n",
       "      <th>DOM</th>\n",
       "      <th>CDOM</th>\n",
       "      <th>List Office MLSID</th>\n",
       "      <th>List Office Name</th>\n",
       "      <th>List Agent MLSID</th>\n",
       "      <th>List Agent Full Name</th>\n",
       "      <th>Selling Office MLSID</th>\n",
       "      <th>Selling Office Name</th>\n",
       "      <th>Selling Agent MLSID</th>\n",
       "      <th>Selling Agent Full Name</th>\n",
       "      <th>Realist Owner Name</th>\n",
       "      <th>Last Change Timestamp</th>\n",
       "      <th>List Date</th>\n",
       "      <th>ones</th>\n",
       "      <th>year</th>\n",
       "    </tr>\n",
       "  </thead>\n",
       "  <tbody>\n",
       "    <tr>\n",
       "      <th>332</th>\n",
       "      <td>74442905</td>\n",
       "      <td>Mid/Hi-Rise Condo</td>\n",
       "      <td>Active</td>\n",
       "      <td>2400</td>\n",
       "      <td>Mccue</td>\n",
       "      <td>255</td>\n",
       "      <td>Houston</td>\n",
       "      <td>77056</td>\n",
       "      <td>Harris</td>\n",
       "      <td>2,650</td>\n",
       "      <td>NaN</td>\n",
       "      <td>NaN</td>\n",
       "      <td>22.0</td>\n",
       "      <td>2400 Mccue Condos</td>\n",
       "      <td>NaN</td>\n",
       "      <td>Galleria</td>\n",
       "      <td>27 - Houston</td>\n",
       "      <td>BRIARGROVE ELEMENTARY SCHOOL</td>\n",
       "      <td>TANGLEWOOD MIDDLE SCHOOL</td>\n",
       "      <td>WISDOM HIGH SCHOOL</td>\n",
       "      <td>1244.0</td>\n",
       "      <td>2.13</td>\n",
       "      <td>NaN</td>\n",
       "      <td>0.0</td>\n",
       "      <td>0.000</td>\n",
       "      <td>NaN</td>\n",
       "      <td>NaN</td>\n",
       "      <td>2001.0</td>\n",
       "      <td>2.0</td>\n",
       "      <td>2.0</td>\n",
       "      <td>0.0</td>\n",
       "      <td>2.0</td>\n",
       "      <td>5.0</td>\n",
       "      <td>0.0</td>\n",
       "      <td>0.0</td>\n",
       "      <td>0.0</td>\n",
       "      <td>NaN</td>\n",
       "      <td>0.0</td>\n",
       "      <td>0.0</td>\n",
       "      <td>NaN</td>\n",
       "      <td>0</td>\n",
       "      <td>0</td>\n",
       "      <td>CKPL01</td>\n",
       "      <td>Winhill Advisors - Kirby</td>\n",
       "      <td>Kriegel</td>\n",
       "      <td>Charlie Kriegel</td>\n",
       "      <td>NaN</td>\n",
       "      <td>NaN</td>\n",
       "      <td>NaN</td>\n",
       "      <td>NaN</td>\n",
       "      <td>NaN</td>\n",
       "      <td>6/22/2020 11:23</td>\n",
       "      <td>6/22/2020 0:00</td>\n",
       "      <td>1</td>\n",
       "      <td>2020.0</td>\n",
       "    </tr>\n",
       "    <tr>\n",
       "      <th>400</th>\n",
       "      <td>2891103</td>\n",
       "      <td>Country Homes/Acreage</td>\n",
       "      <td>Active</td>\n",
       "      <td>0</td>\n",
       "      <td>Speights</td>\n",
       "      <td>NaN</td>\n",
       "      <td>Hankamer</td>\n",
       "      <td>77560</td>\n",
       "      <td>Chambers</td>\n",
       "      <td>15,000</td>\n",
       "      <td>NaN</td>\n",
       "      <td>NaN</td>\n",
       "      <td>53.0</td>\n",
       "      <td>B</td>\n",
       "      <td>NaN</td>\n",
       "      <td>Chambers County East</td>\n",
       "      <td>4 - Anahuac</td>\n",
       "      <td>ANAHUAC ELEMENTARY SCHOOL</td>\n",
       "      <td>ANAHUAC MIDDLE SCHOOL</td>\n",
       "      <td>ANAHUAC HIGH SCHOOL</td>\n",
       "      <td>0.0</td>\n",
       "      <td>0.00</td>\n",
       "      <td>NaN</td>\n",
       "      <td>0.0</td>\n",
       "      <td>0.873</td>\n",
       "      <td>17,182</td>\n",
       "      <td>NaN</td>\n",
       "      <td>0.0</td>\n",
       "      <td>0.0</td>\n",
       "      <td>0.0</td>\n",
       "      <td>0.0</td>\n",
       "      <td>0.0</td>\n",
       "      <td>0.0</td>\n",
       "      <td>0.0</td>\n",
       "      <td>0.0</td>\n",
       "      <td>0.0</td>\n",
       "      <td>NaN</td>\n",
       "      <td>0.0</td>\n",
       "      <td>0.0</td>\n",
       "      <td>NaN</td>\n",
       "      <td>2</td>\n",
       "      <td>2</td>\n",
       "      <td>DEGP01</td>\n",
       "      <td>Doug Erdy Group</td>\n",
       "      <td>caspeigh</td>\n",
       "      <td>Christie Speights</td>\n",
       "      <td>NaN</td>\n",
       "      <td>NaN</td>\n",
       "      <td>NaN</td>\n",
       "      <td>NaN</td>\n",
       "      <td>NaN</td>\n",
       "      <td>6/20/2020 13:11</td>\n",
       "      <td>6/20/2020 0:00</td>\n",
       "      <td>1</td>\n",
       "      <td>2020.0</td>\n",
       "    </tr>\n",
       "  </tbody>\n",
       "</table>\n",
       "</div>"
      ],
      "text/plain": [
       "     MLS Number          Property Type  Status Street Number Street Name Unit Number City/Location Zip Code    County List Price Close Price Close Date  Area        Subdivision Master Planned Community           Market Area School District             School Elementary             School Middle          School High  Building SqFt  Price Sq Ft List Price Sq Ft Sold  Lot Size  Acres Price Acre List Price Acre Sales  Year Built  Bedrooms  Baths Full  Baths Half  Baths Total  Room Count  Fireplaces Number  Stories  New Construction New Construction Desc  Pool Private  No Of Garage Cap Style  DOM  CDOM List Office MLSID          List Office Name List Agent MLSID List Agent Full Name Selling Office MLSID Selling Office Name Selling Agent MLSID Selling Agent Full Name Realist Owner Name Last Change Timestamp      List Date   ones    year\n",
       "332    74442905      Mid/Hi-Rise Condo  Active          2400       Mccue         255       Houston    77056    Harris     2,650          NaN        NaN  22.0  2400 Mccue Condos                      NaN              Galleria    27 - Houston  BRIARGROVE ELEMENTARY SCHOOL  TANGLEWOOD MIDDLE SCHOOL   WISDOM HIGH SCHOOL         1244.0              2.13              NaN       0.0  0.000             NaN              NaN      2001.0       2.0         2.0         0.0          2.0         5.0                0.0      0.0               0.0                   NaN           0.0               0.0   NaN    0     0            CKPL01  Winhill Advisors - Kirby          Kriegel      Charlie Kriegel                  NaN                 NaN                 NaN                     NaN                NaN       6/22/2020 11:23  6/22/2020 0:00     1  2020.0\n",
       "400     2891103  Country Homes/Acreage  Active             0    Speights         NaN      Hankamer    77560  Chambers    15,000          NaN        NaN  53.0                  B                      NaN  Chambers County East     4 - Anahuac     ANAHUAC ELEMENTARY SCHOOL     ANAHUAC MIDDLE SCHOOL  ANAHUAC HIGH SCHOOL            0.0              0.00              NaN       0.0  0.873         17,182               NaN         0.0       0.0         0.0         0.0          0.0         0.0                0.0      0.0               0.0                   NaN           0.0               0.0   NaN    2     2            DEGP01           Doug Erdy Group         caspeigh    Christie Speights                  NaN                 NaN                 NaN                     NaN                NaN       6/20/2020 13:11  6/20/2020 0:00     1  2020.0"
      ]
     },
     "execution_count": 156,
     "metadata": {},
     "output_type": "execute_result"
    }
   ],
   "source": [
    "df.head(2)"
   ]
  },
  {
   "cell_type": "code",
   "execution_count": 157,
   "metadata": {},
   "outputs": [
    {
     "data": {
      "text/plain": [
       "([0, 1, 2, 3, 4, 5, 6, 7, 8], <a list of 9 Text major ticklabel objects>)"
      ]
     },
     "execution_count": 157,
     "metadata": {},
     "output_type": "execute_result"
    },
    {
     "data": {
      "image/png": "[encoded data removed]",
      "text/plain": [
       "<Figure size 1440x720 with 1 Axes>"
      ]
     },
     "metadata": {},
     "output_type": "display_data"
    }
   ],
   "source": [
    "plt.figure(figsize=(20,10))\n",
    "ax = sns.lineplot(x=\"Status\", y=df['Price Sq Ft List'], data=df)\n",
    "plt.xticks(rotation=45)"
   ]
  },
  {
   "cell_type": "markdown",
   "metadata": {},
   "source": [
    "#### As we can see, the points connected by the solid line represent the mean of the y axis feature at the corresponding x coordinate. The shaded area around the line plot shows the confidence interval for the y axis feature (by default, seaborn sets this to a 95% confidence interval)."
   ]
  },
  {
   "cell_type": "code",
   "execution_count": null,
   "metadata": {},
   "outputs": [],
   "source": []
  }
 ],
 "metadata": {
  "colab": {
   "name": "ab-testing-drill.ipynb",
   "provenance": [],
   "version": "0.3.2"
  },
  "hide_input": false,
  "kernelspec": {
   "display_name": "Python 3",
   "language": "python",
   "name": "python3"
  },
  "language_info": {
   "codemirror_mode": {
    "name": "ipython",
    "version": 3
   },
   "file_extension": ".py",
   "mimetype": "text/x-python",
   "name": "python",
   "nbconvert_exporter": "python",
   "pygments_lexer": "ipython3",
   "version": "3.7.7"
  }
 },
 "nbformat": 4,
 "nbformat_minor": 4
}
