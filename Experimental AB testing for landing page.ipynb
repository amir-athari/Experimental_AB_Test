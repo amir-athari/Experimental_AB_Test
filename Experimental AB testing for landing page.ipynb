{
 "cells": [
  {
   "cell_type": "markdown",
   "metadata": {},
   "source": [
    "# Experimental design and A/B testing of a landing page"
   ]
  },
  {
   "cell_type": "markdown",
   "metadata": {},
   "source": [
    "## Setting the environment"
   ]
  },
  {
   "cell_type": "code",
   "execution_count": 2,
   "metadata": {},
   "outputs": [],
   "source": [
    "%matplotlib inline\n",
    "import pandas as pd\n",
    "import numpy as np\n",
    "import seaborn as sns\n",
    "from matplotlib import pyplot as plt\n",
    "from scipy import stats\n",
    "import math\n",
    "import statsmodels.stats.api as sms\n",
    "import scipy.stats as st"
   ]
  },
  {
   "cell_type": "markdown",
   "metadata": {},
   "source": [
    "## Explore the data"
   ]
  },
  {
   "cell_type": "code",
   "execution_count": 20,
   "metadata": {},
   "outputs": [],
   "source": [
    "# Read from pickled file\n",
    "base_folder = r'C:\\Users\\User\\OneDrive - Seedergy\\MAEN\\Code\\Projects\\Courses\\Thinkful2020'\n",
    "               \n",
    "coordinate_file = base_folder+r'\\ab_edited.csv'\n",
    "df1 = pd.read_csv(coordinate_file) "
   ]
  },
  {
   "cell_type": "code",
   "execution_count": 32,
   "metadata": {},
   "outputs": [
    {
     "name": "stdout",
     "output_type": "stream",
     "text": [
      "<class 'pandas.core.frame.DataFrame'>\n",
      "RangeIndex: 290585 entries, 0 to 290584\n",
      "Data columns (total 6 columns):\n",
      " #   Column        Non-Null Count   Dtype \n",
      "---  ------        --------------   ----- \n",
      " 0   user_id       290585 non-null  int64 \n",
      " 1   timestamp     290585 non-null  object\n",
      " 2   group         290585 non-null  int32 \n",
      " 3   landing_page  290585 non-null  int32 \n",
      " 4   converted     290585 non-null  int64 \n",
      " 5   date          290585 non-null  object\n",
      "dtypes: int32(2), int64(2), object(2)\n",
      "memory usage: 11.1+ MB\n"
     ]
    }
   ],
   "source": [
    "df1.info()"
   ]
  },
  {
   "cell_type": "code",
   "execution_count": 21,
   "metadata": {},
   "outputs": [
    {
     "data": {
      "text/html": [
       "<div>\n",
       "<style scoped>\n",
       "    .dataframe tbody tr th:only-of-type {\n",
       "        vertical-align: middle;\n",
       "    }\n",
       "\n",
       "    .dataframe tbody tr th {\n",
       "        vertical-align: top;\n",
       "    }\n",
       "\n",
       "    .dataframe thead th {\n",
       "        text-align: right;\n",
       "    }\n",
       "</style>\n",
       "<table border=\"1\" class=\"dataframe\">\n",
       "  <thead>\n",
       "    <tr style=\"text-align: right;\">\n",
       "      <th></th>\n",
       "      <th>user_id</th>\n",
       "      <th>timestamp</th>\n",
       "      <th>group</th>\n",
       "      <th>landing_page</th>\n",
       "      <th>converted</th>\n",
       "    </tr>\n",
       "  </thead>\n",
       "  <tbody>\n",
       "    <tr>\n",
       "      <th>0</th>\n",
       "      <td>851104</td>\n",
       "      <td>2017-01-21 22:11:48.556739</td>\n",
       "      <td>control</td>\n",
       "      <td>old_page</td>\n",
       "      <td>0</td>\n",
       "    </tr>\n",
       "    <tr>\n",
       "      <th>1</th>\n",
       "      <td>804228</td>\n",
       "      <td>2017-01-12 08:01:45.159739</td>\n",
       "      <td>control</td>\n",
       "      <td>old_page</td>\n",
       "      <td>0</td>\n",
       "    </tr>\n",
       "    <tr>\n",
       "      <th>2</th>\n",
       "      <td>661590</td>\n",
       "      <td>2017-01-11 16:55:06.154213</td>\n",
       "      <td>treatment</td>\n",
       "      <td>new_page</td>\n",
       "      <td>0</td>\n",
       "    </tr>\n",
       "  </tbody>\n",
       "</table>\n",
       "</div>"
      ],
      "text/plain": [
       "   user_id                   timestamp      group landing_page  converted\n",
       "0   851104  2017-01-21 22:11:48.556739    control     old_page          0\n",
       "1   804228  2017-01-12 08:01:45.159739    control     old_page          0\n",
       "2   661590  2017-01-11 16:55:06.154213  treatment     new_page          0"
      ]
     },
     "execution_count": 21,
     "metadata": {},
     "output_type": "execute_result"
    }
   ],
   "source": [
    "df1.head(3)"
   ]
  },
  {
   "cell_type": "code",
   "execution_count": 22,
   "metadata": {},
   "outputs": [],
   "source": [
    "# Convert string lables to binary for ease or work\n",
    "df1 = df1.copy()\n",
    "df1['group'] = df1['group'].str.replace('control', '0')\n",
    "df1['group'] = df1['group'].str.replace('treatment', '1')\n",
    "df1['landing_page'] = df1['landing_page'].str.replace('old_page', '0')\n",
    "df1['landing_page'] = df1['landing_page'].str.replace('new_page', '1')\n",
    "df1['group'] = df1['group'].astype(int)\n",
    "df1['landing_page'] = df1['landing_page'].astype(int)\n",
    "df1['date'] = pd.DatetimeIndex(df1['date']).date"
   ]
  },
  {
   "cell_type": "code",
   "execution_count": 23,
   "metadata": {},
   "outputs": [
    {
     "data": {
      "text/html": [
       "<div>\n",
       "<style scoped>\n",
       "    .dataframe tbody tr th:only-of-type {\n",
       "        vertical-align: middle;\n",
       "    }\n",
       "\n",
       "    .dataframe tbody tr th {\n",
       "        vertical-align: top;\n",
       "    }\n",
       "\n",
       "    .dataframe thead th {\n",
       "        text-align: right;\n",
       "    }\n",
       "</style>\n",
       "<table border=\"1\" class=\"dataframe\">\n",
       "  <thead>\n",
       "    <tr style=\"text-align: right;\">\n",
       "      <th></th>\n",
       "      <th>user_id</th>\n",
       "      <th>timestamp</th>\n",
       "      <th>group</th>\n",
       "      <th>landing_page</th>\n",
       "      <th>converted</th>\n",
       "      <th>date</th>\n",
       "    </tr>\n",
       "  </thead>\n",
       "  <tbody>\n",
       "    <tr>\n",
       "      <th>0</th>\n",
       "      <td>851104</td>\n",
       "      <td>2017-01-21 22:11:48.556739</td>\n",
       "      <td>0</td>\n",
       "      <td>0</td>\n",
       "      <td>0</td>\n",
       "      <td>2017-01-21</td>\n",
       "    </tr>\n",
       "    <tr>\n",
       "      <th>1</th>\n",
       "      <td>804228</td>\n",
       "      <td>2017-01-12 08:01:45.159739</td>\n",
       "      <td>0</td>\n",
       "      <td>0</td>\n",
       "      <td>0</td>\n",
       "      <td>2017-01-12</td>\n",
       "    </tr>\n",
       "    <tr>\n",
       "      <th>2</th>\n",
       "      <td>661590</td>\n",
       "      <td>2017-01-11 16:55:06.154213</td>\n",
       "      <td>1</td>\n",
       "      <td>1</td>\n",
       "      <td>0</td>\n",
       "      <td>2017-01-11</td>\n",
       "    </tr>\n",
       "    <tr>\n",
       "      <th>3</th>\n",
       "      <td>853541</td>\n",
       "      <td>2017-01-08 18:28:03.143765</td>\n",
       "      <td>1</td>\n",
       "      <td>1</td>\n",
       "      <td>0</td>\n",
       "      <td>2017-01-08</td>\n",
       "    </tr>\n",
       "    <tr>\n",
       "      <th>4</th>\n",
       "      <td>864975</td>\n",
       "      <td>2017-01-21 01:52:26.210827</td>\n",
       "      <td>0</td>\n",
       "      <td>0</td>\n",
       "      <td>1</td>\n",
       "      <td>2017-01-21</td>\n",
       "    </tr>\n",
       "  </tbody>\n",
       "</table>\n",
       "</div>"
      ],
      "text/plain": [
       "   user_id                   timestamp  group  landing_page  converted  \\\n",
       "0   851104  2017-01-21 22:11:48.556739      0             0          0   \n",
       "1   804228  2017-01-12 08:01:45.159739      0             0          0   \n",
       "2   661590  2017-01-11 16:55:06.154213      1             1          0   \n",
       "3   853541  2017-01-08 18:28:03.143765      1             1          0   \n",
       "4   864975  2017-01-21 01:52:26.210827      0             0          1   \n",
       "\n",
       "         date  \n",
       "0  2017-01-21  \n",
       "1  2017-01-12  \n",
       "2  2017-01-11  \n",
       "3  2017-01-08  \n",
       "4  2017-01-21  "
      ]
     },
     "execution_count": 23,
     "metadata": {},
     "output_type": "execute_result"
    }
   ],
   "source": [
    "df1.head()"
   ]
  },
  {
   "cell_type": "code",
   "execution_count": 7,
   "metadata": {},
   "outputs": [
    {
     "data": {
      "text/html": [
       "<div>\n",
       "<style scoped>\n",
       "    .dataframe tbody tr th:only-of-type {\n",
       "        vertical-align: middle;\n",
       "    }\n",
       "\n",
       "    .dataframe tbody tr th {\n",
       "        vertical-align: top;\n",
       "    }\n",
       "\n",
       "    .dataframe thead th {\n",
       "        text-align: right;\n",
       "    }\n",
       "</style>\n",
       "<table border=\"1\" class=\"dataframe\">\n",
       "  <thead>\n",
       "    <tr style=\"text-align: right;\">\n",
       "      <th></th>\n",
       "      <th>user_id</th>\n",
       "      <th>group</th>\n",
       "      <th>landing_page</th>\n",
       "      <th>converted</th>\n",
       "    </tr>\n",
       "  </thead>\n",
       "  <tbody>\n",
       "    <tr>\n",
       "      <th>count</th>\n",
       "      <td>290585.000000</td>\n",
       "      <td>290585.000000</td>\n",
       "      <td>290585.000000</td>\n",
       "      <td>290585.000000</td>\n",
       "    </tr>\n",
       "    <tr>\n",
       "      <th>mean</th>\n",
       "      <td>788004.825246</td>\n",
       "      <td>0.500064</td>\n",
       "      <td>0.500064</td>\n",
       "      <td>0.119597</td>\n",
       "    </tr>\n",
       "    <tr>\n",
       "      <th>std</th>\n",
       "      <td>91224.582639</td>\n",
       "      <td>0.500001</td>\n",
       "      <td>0.500001</td>\n",
       "      <td>0.324490</td>\n",
       "    </tr>\n",
       "    <tr>\n",
       "      <th>min</th>\n",
       "      <td>630000.000000</td>\n",
       "      <td>0.000000</td>\n",
       "      <td>0.000000</td>\n",
       "      <td>0.000000</td>\n",
       "    </tr>\n",
       "    <tr>\n",
       "      <th>25%</th>\n",
       "      <td>709035.000000</td>\n",
       "      <td>0.000000</td>\n",
       "      <td>0.000000</td>\n",
       "      <td>0.000000</td>\n",
       "    </tr>\n",
       "    <tr>\n",
       "      <th>50%</th>\n",
       "      <td>787995.000000</td>\n",
       "      <td>1.000000</td>\n",
       "      <td>1.000000</td>\n",
       "      <td>0.000000</td>\n",
       "    </tr>\n",
       "    <tr>\n",
       "      <th>75%</th>\n",
       "      <td>866956.000000</td>\n",
       "      <td>1.000000</td>\n",
       "      <td>1.000000</td>\n",
       "      <td>0.000000</td>\n",
       "    </tr>\n",
       "    <tr>\n",
       "      <th>max</th>\n",
       "      <td>945999.000000</td>\n",
       "      <td>1.000000</td>\n",
       "      <td>1.000000</td>\n",
       "      <td>1.000000</td>\n",
       "    </tr>\n",
       "  </tbody>\n",
       "</table>\n",
       "</div>"
      ],
      "text/plain": [
       "             user_id          group   landing_page      converted\n",
       "count  290585.000000  290585.000000  290585.000000  290585.000000\n",
       "mean   788004.825246       0.500064       0.500064       0.119597\n",
       "std     91224.582639       0.500001       0.500001       0.324490\n",
       "min    630000.000000       0.000000       0.000000       0.000000\n",
       "25%    709035.000000       0.000000       0.000000       0.000000\n",
       "50%    787995.000000       1.000000       1.000000       0.000000\n",
       "75%    866956.000000       1.000000       1.000000       0.000000\n",
       "max    945999.000000       1.000000       1.000000       1.000000"
      ]
     },
     "execution_count": 7,
     "metadata": {},
     "output_type": "execute_result"
    }
   ],
   "source": [
    "df1.describe()"
   ]
  },
  {
   "cell_type": "code",
   "execution_count": 37,
   "metadata": {},
   "outputs": [
    {
     "data": {
      "text/html": [
       "<div>\n",
       "<style scoped>\n",
       "    .dataframe tbody tr th:only-of-type {\n",
       "        vertical-align: middle;\n",
       "    }\n",
       "\n",
       "    .dataframe tbody tr th {\n",
       "        vertical-align: top;\n",
       "    }\n",
       "\n",
       "    .dataframe thead th {\n",
       "        text-align: right;\n",
       "    }\n",
       "</style>\n",
       "<table border=\"1\" class=\"dataframe\">\n",
       "  <thead>\n",
       "    <tr style=\"text-align: right;\">\n",
       "      <th></th>\n",
       "      <th>user_id</th>\n",
       "      <th>group</th>\n",
       "      <th>landing_page</th>\n",
       "      <th>converted</th>\n",
       "      <th>timestamp</th>\n",
       "      <th>date</th>\n",
       "    </tr>\n",
       "  </thead>\n",
       "  <tbody>\n",
       "    <tr>\n",
       "      <th>count</th>\n",
       "      <td>290585.000000</td>\n",
       "      <td>290585.000000</td>\n",
       "      <td>290585.000000</td>\n",
       "      <td>290585.000000</td>\n",
       "      <td>NaN</td>\n",
       "      <td>NaN</td>\n",
       "    </tr>\n",
       "    <tr>\n",
       "      <th>mean</th>\n",
       "      <td>788004.825246</td>\n",
       "      <td>0.500064</td>\n",
       "      <td>0.500064</td>\n",
       "      <td>0.119597</td>\n",
       "      <td>NaN</td>\n",
       "      <td>NaN</td>\n",
       "    </tr>\n",
       "    <tr>\n",
       "      <th>std</th>\n",
       "      <td>91224.582639</td>\n",
       "      <td>0.500001</td>\n",
       "      <td>0.500001</td>\n",
       "      <td>0.324490</td>\n",
       "      <td>NaN</td>\n",
       "      <td>NaN</td>\n",
       "    </tr>\n",
       "    <tr>\n",
       "      <th>min</th>\n",
       "      <td>630000.000000</td>\n",
       "      <td>0.000000</td>\n",
       "      <td>0.000000</td>\n",
       "      <td>0.000000</td>\n",
       "      <td>NaN</td>\n",
       "      <td>NaN</td>\n",
       "    </tr>\n",
       "    <tr>\n",
       "      <th>25%</th>\n",
       "      <td>709035.000000</td>\n",
       "      <td>0.000000</td>\n",
       "      <td>0.000000</td>\n",
       "      <td>0.000000</td>\n",
       "      <td>NaN</td>\n",
       "      <td>NaN</td>\n",
       "    </tr>\n",
       "    <tr>\n",
       "      <th>50%</th>\n",
       "      <td>787995.000000</td>\n",
       "      <td>1.000000</td>\n",
       "      <td>1.000000</td>\n",
       "      <td>0.000000</td>\n",
       "      <td>NaN</td>\n",
       "      <td>NaN</td>\n",
       "    </tr>\n",
       "    <tr>\n",
       "      <th>75%</th>\n",
       "      <td>866956.000000</td>\n",
       "      <td>1.000000</td>\n",
       "      <td>1.000000</td>\n",
       "      <td>0.000000</td>\n",
       "      <td>NaN</td>\n",
       "      <td>NaN</td>\n",
       "    </tr>\n",
       "    <tr>\n",
       "      <th>max</th>\n",
       "      <td>945999.000000</td>\n",
       "      <td>1.000000</td>\n",
       "      <td>1.000000</td>\n",
       "      <td>1.000000</td>\n",
       "      <td>NaN</td>\n",
       "      <td>NaN</td>\n",
       "    </tr>\n",
       "    <tr>\n",
       "      <th>mad</th>\n",
       "      <td>79008.282245</td>\n",
       "      <td>0.500000</td>\n",
       "      <td>0.500000</td>\n",
       "      <td>0.210587</td>\n",
       "      <td>NaN</td>\n",
       "      <td>NaN</td>\n",
       "    </tr>\n",
       "    <tr>\n",
       "      <th>skew</th>\n",
       "      <td>0.000433</td>\n",
       "      <td>-0.000255</td>\n",
       "      <td>-0.000255</td>\n",
       "      <td>2.344640</td>\n",
       "      <td>NaN</td>\n",
       "      <td>NaN</td>\n",
       "    </tr>\n",
       "    <tr>\n",
       "      <th>kurt</th>\n",
       "      <td>-1.200327</td>\n",
       "      <td>-2.000014</td>\n",
       "      <td>-2.000014</td>\n",
       "      <td>3.497360</td>\n",
       "      <td>NaN</td>\n",
       "      <td>NaN</td>\n",
       "    </tr>\n",
       "    <tr>\n",
       "      <th>unique</th>\n",
       "      <td>290584.000000</td>\n",
       "      <td>2.000000</td>\n",
       "      <td>2.000000</td>\n",
       "      <td>2.000000</td>\n",
       "      <td>290585.0</td>\n",
       "      <td>23.0</td>\n",
       "    </tr>\n",
       "  </tbody>\n",
       "</table>\n",
       "</div>"
      ],
      "text/plain": [
       "              user_id          group   landing_page      converted  timestamp  \\\n",
       "count   290585.000000  290585.000000  290585.000000  290585.000000        NaN   \n",
       "mean    788004.825246       0.500064       0.500064       0.119597        NaN   \n",
       "std      91224.582639       0.500001       0.500001       0.324490        NaN   \n",
       "min     630000.000000       0.000000       0.000000       0.000000        NaN   \n",
       "25%     709035.000000       0.000000       0.000000       0.000000        NaN   \n",
       "50%     787995.000000       1.000000       1.000000       0.000000        NaN   \n",
       "75%     866956.000000       1.000000       1.000000       0.000000        NaN   \n",
       "max     945999.000000       1.000000       1.000000       1.000000        NaN   \n",
       "mad      79008.282245       0.500000       0.500000       0.210587        NaN   \n",
       "skew         0.000433      -0.000255      -0.000255       2.344640        NaN   \n",
       "kurt        -1.200327      -2.000014      -2.000014       3.497360        NaN   \n",
       "unique  290584.000000       2.000000       2.000000       2.000000   290585.0   \n",
       "\n",
       "        date  \n",
       "count    NaN  \n",
       "mean     NaN  \n",
       "std      NaN  \n",
       "min      NaN  \n",
       "25%      NaN  \n",
       "50%      NaN  \n",
       "75%      NaN  \n",
       "max      NaN  \n",
       "mad      NaN  \n",
       "skew     NaN  \n",
       "kurt     NaN  \n",
       "unique  23.0  "
      ]
     },
     "execution_count": 37,
     "metadata": {},
     "output_type": "execute_result"
    }
   ],
   "source": [
    "# Help functions to gather basic descriptions\n",
    "def describe(df):\n",
    "    return pd.concat([df.describe().T,\n",
    "                      df.mad().rename('mad'),\n",
    "                      df.skew().rename('skew'),\n",
    "                      df.kurt().rename('kurt'),\n",
    "                      df.nunique().rename('unique')\n",
    "                     ], axis=1).T\n",
    "\n",
    "describe(df1)"
   ]
  },
  {
   "cell_type": "markdown",
   "metadata": {},
   "source": [
    "## Analysis of different samples"
   ]
  },
  {
   "cell_type": "code",
   "execution_count": 26,
   "metadata": {},
   "outputs": [
    {
     "name": "stdout",
     "output_type": "stream",
     "text": [
      "group sample size: 145311\n",
      "control sample size: 145274\n",
      "group proportion: 50.01 %\n",
      "\n",
      "group signup rate: 11.88 %\n",
      "control signup rate: 12.04 %\n"
     ]
    },
    {
     "data": {
      "text/plain": [
       "Ttest_indResult(statistic=-1.3116069027036805, pvalue=0.18965383906859376)"
      ]
     },
     "execution_count": 26,
     "metadata": {},
     "output_type": "execute_result"
    }
   ],
   "source": [
    "# How large is each group?\n",
    "print('group sample size:', len(df1[df1.group == 1]))\n",
    "print('control sample size:', len(df1[df1.group == 0]))\n",
    "print('group proportion:', round(df1.group.mean()*100,2),\"%\")\n",
    "print()\n",
    "\n",
    "# What is the signup rate of group and control?\n",
    "print('group signup rate:', round(df1[df1.group == 1].converted.mean()*100,2),\"%\")\n",
    "print('control signup rate:', round(df1[df1.group == 0].converted.mean()*100,2),\"%\")\n",
    "\n",
    "# Is the experiment already significant?\n",
    "stats.ttest_ind(\n",
    "    df1[df1.group == 1].converted,\n",
    "    df1[df1.group == 0].converted)"
   ]
  },
  {
   "cell_type": "markdown",
   "metadata": {},
   "source": [
    "### The sample sizes are large engouh however the t-test is not significant"
   ]
  },
  {
   "cell_type": "markdown",
   "metadata": {},
   "source": [
    "### We can double check the required sample size given 5% practical significance criteria"
   ]
  },
  {
   "cell_type": "code",
   "execution_count": 33,
   "metadata": {},
   "outputs": [
    {
     "name": "stdout",
     "output_type": "stream",
     "text": [
      "Baseline Rate for conrol group:  12.04 % and Practical Sginifiance:  5.0 %\n",
      "Confidence Level:  5.0 % and Sensitivity:  80.0 %\n",
      "Required sample size:  775  per group\n"
     ]
    }
   ],
   "source": [
    "# Check what sample size is required\n",
    "baseline_rate = conversions_control / total_users_control\n",
    "practical_significance = 0.05 #user defined\n",
    "confidence_level = 0.05 #user defined, for a 95% confidence interval\n",
    "sensitivity = 0.8 #user defined\n",
    "\n",
    "effect_size = sms.proportion_effectsize(baseline_rate, baseline_rate + practical_significance)\n",
    "sample_size = sms.NormalIndPower().solve_power(effect_size = effect_size, power = sensitivity, \n",
    "                                               alpha = confidence_level, ratio=1)\n",
    "print('Baseline Rate for conrol group: ', round(baseline_rate*100, 2),\"%\" \" and Practical Sginifiance: \", round(practical_significance*100,3),\"%\")\n",
    "print('Confidence Level: ', round(confidence_level*100, 2),\"%\" \" and Sensitivity: \", round(sensitivity*100,3),\"%\")\n",
    "\n",
    "print(\"Required sample size: \", round(sample_size), \" per group\")"
   ]
  },
  {
   "cell_type": "code",
   "execution_count": null,
   "metadata": {},
   "outputs": [],
   "source": []
  },
  {
   "cell_type": "markdown",
   "metadata": {},
   "source": [
    "## Analysis of converted samples"
   ]
  },
  {
   "cell_type": "code",
   "execution_count": 25,
   "metadata": {},
   "outputs": [
    {
     "name": "stdout",
     "output_type": "stream",
     "text": [
      "Split of control users vs treatment users:  49.99 %  50.01 %\n",
      "Number of control users who converted:  17489\n",
      "Percentage of control users who converted:  12.04 %\n",
      "Number of treatment users who converted:  17264\n",
      "Percentage of treatment users who converted:  11.88 %\n"
     ]
    }
   ],
   "source": [
    "conversions_control = df1[df1['group'] ==0]['converted'].sum()\n",
    "total_users_control= df1[df1['group'] ==0]['converted'].count()\n",
    "\n",
    "conversions_treatment = df1[df1['group'] ==1]['converted'].sum()\n",
    "total_users_treatment= df1[df1['group'] ==1]['converted'].count()\n",
    "print(\"Split of control users vs treatment users: \", \n",
    "          round(total_users_control / df1[\"converted\"].count() * 100, 2), \"% \",\n",
    "          round(total_users_treatment / df1[\"converted\"].count() * 100, 2), \"%\")\n",
    "\n",
    "\n",
    "#count number of receiver who converted in each group\n",
    "print(\"Number of control users who converted: \", conversions_control)\n",
    "print(\"Percentage of control users who converted: \", round((conversions_control / total_users_control) * 100, 2), \"%\")\n",
    "\n",
    "print(\"Number of treatment users who converted: \", conversions_treatment)\n",
    "print(\"Percentage of treatment users who converted: \", round((conversions_treatment/ total_users_treatment) * 100, 2), \"%\")"
   ]
  },
  {
   "cell_type": "markdown",
   "metadata": {},
   "source": [
    "### Visualize conversion rate for control and treatment group"
   ]
  },
  {
   "cell_type": "code",
   "execution_count": 27,
   "metadata": {},
   "outputs": [
    {
     "data": {
      "text/html": [
       "<div>\n",
       "<style scoped>\n",
       "    .dataframe tbody tr th:only-of-type {\n",
       "        vertical-align: middle;\n",
       "    }\n",
       "\n",
       "    .dataframe tbody tr th {\n",
       "        vertical-align: top;\n",
       "    }\n",
       "\n",
       "    .dataframe thead th {\n",
       "        text-align: right;\n",
       "    }\n",
       "</style>\n",
       "<table border=\"1\" class=\"dataframe\">\n",
       "  <thead>\n",
       "    <tr style=\"text-align: right;\">\n",
       "      <th></th>\n",
       "      <th>user_id</th>\n",
       "      <th>timestamp</th>\n",
       "      <th>group</th>\n",
       "      <th>landing_page</th>\n",
       "      <th>converted</th>\n",
       "      <th>date</th>\n",
       "    </tr>\n",
       "  </thead>\n",
       "  <tbody>\n",
       "    <tr>\n",
       "      <th>0</th>\n",
       "      <td>851104</td>\n",
       "      <td>2017-01-21 22:11:48.556739</td>\n",
       "      <td>0</td>\n",
       "      <td>0</td>\n",
       "      <td>0</td>\n",
       "      <td>2017-01-21</td>\n",
       "    </tr>\n",
       "    <tr>\n",
       "      <th>1</th>\n",
       "      <td>804228</td>\n",
       "      <td>2017-01-12 08:01:45.159739</td>\n",
       "      <td>0</td>\n",
       "      <td>0</td>\n",
       "      <td>0</td>\n",
       "      <td>2017-01-12</td>\n",
       "    </tr>\n",
       "    <tr>\n",
       "      <th>2</th>\n",
       "      <td>661590</td>\n",
       "      <td>2017-01-11 16:55:06.154213</td>\n",
       "      <td>1</td>\n",
       "      <td>1</td>\n",
       "      <td>0</td>\n",
       "      <td>2017-01-11</td>\n",
       "    </tr>\n",
       "  </tbody>\n",
       "</table>\n",
       "</div>"
      ],
      "text/plain": [
       "   user_id                   timestamp  group  landing_page  converted  \\\n",
       "0   851104  2017-01-21 22:11:48.556739      0             0          0   \n",
       "1   804228  2017-01-12 08:01:45.159739      0             0          0   \n",
       "2   661590  2017-01-11 16:55:06.154213      1             1          0   \n",
       "\n",
       "         date  \n",
       "0  2017-01-21  \n",
       "1  2017-01-12  \n",
       "2  2017-01-11  "
      ]
     },
     "execution_count": 27,
     "metadata": {},
     "output_type": "execute_result"
    }
   ],
   "source": [
    "df1.head(3)"
   ]
  },
  {
   "cell_type": "code",
   "execution_count": 38,
   "metadata": {},
   "outputs": [
    {
     "data": {
      "image/png": "[encoded data removed]",
      "text/plain": [
       "<Figure size 432x288 with 1 Axes>"
      ]
     },
     "metadata": {
      "needs_background": "light"
     },
     "output_type": "display_data"
    }
   ],
   "source": [
    "\n",
    "fig = df1[df1.group==1][\n",
    "    ['date', 'converted']].groupby('date').mean().plot()\n",
    "df1[df1.group==0][\n",
    "    ['date', 'converted']].groupby('date').mean().plot(ax=fig)\n",
    "plt.legend(['test','control'])\n",
    "plt.title('Comparing Conversion by Treatment Date')\n",
    "plt.show()"
   ]
  },
  {
   "cell_type": "code",
   "execution_count": 36,
   "metadata": {},
   "outputs": [
    {
     "name": "stdout",
     "output_type": "stream",
     "text": [
      "T-Test Results by Date\n",
      "Ttest_indResult(statistic=-1.8123288054674913, pvalue=0.06995793389888251)\n",
      "Ttest_indResult(statistic=0.05182821974845549, pvalue=0.9586663564605943)\n",
      "Ttest_indResult(statistic=-0.6795024407954999, pvalue=0.49683133482307695)\n",
      "Ttest_indResult(statistic=0.33111903181744556, pvalue=0.7405597598504309)\n",
      "Ttest_indResult(statistic=2.3999515991310387, pvalue=0.01641085244784032)\n",
      "Ttest_indResult(statistic=-0.4836129647924235, pvalue=0.628668638020595)\n",
      "Ttest_indResult(statistic=0.7611804663738991, pvalue=0.446562930057432)\n",
      "Ttest_indResult(statistic=-0.9315635899845935, pvalue=0.3515792521983202)\n",
      "Ttest_indResult(statistic=-1.261388402374626, pvalue=0.20719113309271808)\n",
      "Ttest_indResult(statistic=-0.0026642818202597274, pvalue=0.9978742538059032)\n",
      "Ttest_indResult(statistic=-0.28071255594768935, pvalue=0.7789352633524722)\n",
      "Ttest_indResult(statistic=-0.2056136446252576, pvalue=0.837095874040602)\n",
      "Ttest_indResult(statistic=0.4909032980527966, pvalue=0.6235093367111435)\n",
      "Ttest_indResult(statistic=-0.8094922831773846, pvalue=0.41824647028626694)\n",
      "Ttest_indResult(statistic=0.4369071658956722, pvalue=0.6621858156795764)\n",
      "Ttest_indResult(statistic=-1.4468255388280735, pvalue=0.14797003344175097)\n",
      "Ttest_indResult(statistic=1.445201350915974, pvalue=0.14842480715695958)\n",
      "Ttest_indResult(statistic=-1.0178087858982594, pvalue=0.3087876929639064)\n",
      "Ttest_indResult(statistic=-0.8500557494800433, pvalue=0.3953094968293003)\n",
      "Ttest_indResult(statistic=-0.005102928348269819, pvalue=0.9959285470042827)\n",
      "Ttest_indResult(statistic=-0.6557398855583756, pvalue=0.5120179205036728)\n",
      "Ttest_indResult(statistic=-0.4678178596106672, pvalue=0.6399226098635871)\n",
      "Ttest_indResult(statistic=-1.311670708102873, pvalue=0.18965417024438827)\n"
     ]
    }
   ],
   "source": [
    "# Generate a test statistic comparing test and control on treatment date\n",
    "print('T-Test Results by Date')\n",
    "\n",
    "for day in df1.date.unique():\n",
    "    dated_data = df1[df1.date == day]\n",
    "    print(stats.ttest_ind(dated_data[dated_data.group == 1].converted,\n",
    "                          dated_data[dated_data.group == 0].converted))"
   ]
  },
  {
   "cell_type": "markdown",
   "metadata": {},
   "source": [
    "## We do not see any significant difference in control and treatment groups and the same is visible throughout the rollout."
   ]
  },
  {
   "cell_type": "markdown",
   "metadata": {},
   "source": [
    "## Just a reminder what p-values mean"
   ]
  },
  {
   "cell_type": "markdown",
   "metadata": {},
   "source": [
    "##### P-values can indicate how incompatible the data is with a specified statistical model\n",
    "##### P-values do not measure the probability that the studied hypothesis is true, or the probability that the data was produced by random chance alone\n",
    "##### Scientific conclusions and business or policy decisions should not be based only on whether a p-value passes a specific threshold\n",
    "##### Proper inference requires full reporting and transparency\n",
    "##### A p-value, or statistical significance, does not measure the size of an effect or the importance of a result\n",
    "##### By itself, a p-value does not provide a good measure of evidence regarding a model or hypothesis"
   ]
  },
  {
   "cell_type": "code",
   "execution_count": null,
   "metadata": {},
   "outputs": [],
   "source": []
  }
 ],
 "metadata": {
  "kernelspec": {
   "display_name": "Python 3",
   "language": "python",
   "name": "python3"
  },
  "language_info": {
   "codemirror_mode": {
    "name": "ipython",
    "version": 3
   },
   "file_extension": ".py",
   "mimetype": "text/x-python",
   "name": "python",
   "nbconvert_exporter": "python",
   "pygments_lexer": "ipython3",
   "version": "3.7.7"
  }
 },
 "nbformat": 4,
 "nbformat_minor": 4
}
